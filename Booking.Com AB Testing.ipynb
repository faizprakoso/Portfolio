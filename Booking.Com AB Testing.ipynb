{
 "cells": [
  {
   "cell_type": "markdown",
   "id": "1d5125fa-19ce-490c-af4e-d59f55e2f4f6",
   "metadata": {},
   "source": [
    "# AB Testing"
   ]
  },
  {
   "cell_type": "code",
   "execution_count": 59,
   "id": "c2136869-e351-4e8c-a6d1-cb5023736f60",
   "metadata": {},
   "outputs": [],
   "source": [
    "import pandas as pd\n",
    "import numpy as np\n",
    "import matplotlib.pyplot as plt\n",
    "import seaborn as sns\n",
    "from scipy.stats import chi2_contingency, shapiro, levene, ttest_ind, mannwhitneyu, kstest, stats, spearmanr"
   ]
  },
  {
   "cell_type": "markdown",
   "id": "4fe4c6f5-6cdc-4e03-99d2-8b200fe7f985",
   "metadata": {
    "jp-MarkdownHeadingCollapsed": true
   },
   "source": [
    "## Data Understanding"
   ]
  },
  {
   "cell_type": "code",
   "execution_count": 2,
   "id": "d9c98454-d145-43c3-b952-0d825f2e1bc1",
   "metadata": {},
   "outputs": [
    {
     "data": {
      "text/html": [
       "<div>\n",
       "<style scoped>\n",
       "    .dataframe tbody tr th:only-of-type {\n",
       "        vertical-align: middle;\n",
       "    }\n",
       "\n",
       "    .dataframe tbody tr th {\n",
       "        vertical-align: top;\n",
       "    }\n",
       "\n",
       "    .dataframe thead th {\n",
       "        text-align: right;\n",
       "    }\n",
       "</style>\n",
       "<table border=\"1\" class=\"dataframe\">\n",
       "  <thead>\n",
       "    <tr style=\"text-align: right;\">\n",
       "      <th></th>\n",
       "      <th>User ID</th>\n",
       "      <th>Group</th>\n",
       "      <th>Page Views</th>\n",
       "      <th>Time Spent</th>\n",
       "      <th>Conversion</th>\n",
       "      <th>Device</th>\n",
       "      <th>Location</th>\n",
       "    </tr>\n",
       "  </thead>\n",
       "  <tbody>\n",
       "    <tr>\n",
       "      <th>0</th>\n",
       "      <td>14292</td>\n",
       "      <td>B</td>\n",
       "      <td>3</td>\n",
       "      <td>424</td>\n",
       "      <td>No</td>\n",
       "      <td>Mobile</td>\n",
       "      <td>Northern Ireland</td>\n",
       "    </tr>\n",
       "    <tr>\n",
       "      <th>1</th>\n",
       "      <td>11682</td>\n",
       "      <td>A</td>\n",
       "      <td>9</td>\n",
       "      <td>342</td>\n",
       "      <td>No</td>\n",
       "      <td>Mobile</td>\n",
       "      <td>Scotland</td>\n",
       "    </tr>\n",
       "    <tr>\n",
       "      <th>2</th>\n",
       "      <td>19825</td>\n",
       "      <td>A</td>\n",
       "      <td>2</td>\n",
       "      <td>396</td>\n",
       "      <td>No</td>\n",
       "      <td>Desktop</td>\n",
       "      <td>Northern Ireland</td>\n",
       "    </tr>\n",
       "    <tr>\n",
       "      <th>3</th>\n",
       "      <td>16080</td>\n",
       "      <td>B</td>\n",
       "      <td>4</td>\n",
       "      <td>318</td>\n",
       "      <td>No</td>\n",
       "      <td>Desktop</td>\n",
       "      <td>Wales</td>\n",
       "    </tr>\n",
       "    <tr>\n",
       "      <th>4</th>\n",
       "      <td>18851</td>\n",
       "      <td>A</td>\n",
       "      <td>1</td>\n",
       "      <td>338</td>\n",
       "      <td>Yes</td>\n",
       "      <td>Desktop</td>\n",
       "      <td>Scotland</td>\n",
       "    </tr>\n",
       "  </tbody>\n",
       "</table>\n",
       "</div>"
      ],
      "text/plain": [
       "   User ID Group  Page Views  Time Spent Conversion   Device          Location\n",
       "0    14292     B           3         424         No   Mobile  Northern Ireland\n",
       "1    11682     A           9         342         No   Mobile          Scotland\n",
       "2    19825     A           2         396         No  Desktop  Northern Ireland\n",
       "3    16080     B           4         318         No  Desktop             Wales\n",
       "4    18851     A           1         338        Yes  Desktop          Scotland"
      ]
     },
     "execution_count": 2,
     "metadata": {},
     "output_type": "execute_result"
    }
   ],
   "source": [
    "df=pd.read_csv('ab_testing.csv')\n",
    "df.head()"
   ]
  },
  {
   "cell_type": "markdown",
   "id": "56e188ca-d4c1-4c34-9ee7-dfc75f2d0c65",
   "metadata": {},
   "source": [
    "The main independent feature is Group, while the dependent features are page views, time spent, and conversion. However, device and location can also be analyzed for a better understanding of whether the Group impacts these dependent features or whether device and location themselves affect page views, time spent, and conversion."
   ]
  },
  {
   "cell_type": "code",
   "execution_count": 3,
   "id": "66f28727-770f-492f-9562-f26fccfdc70b",
   "metadata": {},
   "outputs": [
    {
     "name": "stdout",
     "output_type": "stream",
     "text": [
      "<class 'pandas.core.frame.DataFrame'>\n",
      "RangeIndex: 5000 entries, 0 to 4999\n",
      "Data columns (total 7 columns):\n",
      " #   Column      Non-Null Count  Dtype \n",
      "---  ------      --------------  ----- \n",
      " 0   User ID     5000 non-null   int64 \n",
      " 1   Group       5000 non-null   object\n",
      " 2   Page Views  5000 non-null   int64 \n",
      " 3   Time Spent  5000 non-null   int64 \n",
      " 4   Conversion  5000 non-null   object\n",
      " 5   Device      5000 non-null   object\n",
      " 6   Location    5000 non-null   object\n",
      "dtypes: int64(3), object(4)\n",
      "memory usage: 273.6+ KB\n"
     ]
    }
   ],
   "source": [
    "df.info()"
   ]
  },
  {
   "cell_type": "code",
   "execution_count": 4,
   "id": "a4125c47-ba36-47ea-bb05-1ea0d1469274",
   "metadata": {},
   "outputs": [
    {
     "data": {
      "text/plain": [
       "False"
      ]
     },
     "execution_count": 4,
     "metadata": {},
     "output_type": "execute_result"
    }
   ],
   "source": [
    "df.duplicated().any()"
   ]
  },
  {
   "cell_type": "markdown",
   "id": "33af4ec5-9764-4375-be19-886c507c45ca",
   "metadata": {},
   "source": [
    "No missing value and duplicated data"
   ]
  },
  {
   "cell_type": "code",
   "execution_count": 5,
   "id": "6a11f12d-cfc5-49ca-b51e-4c7b1446d855",
   "metadata": {},
   "outputs": [
    {
     "data": {
      "text/html": [
       "<div>\n",
       "<style scoped>\n",
       "    .dataframe tbody tr th:only-of-type {\n",
       "        vertical-align: middle;\n",
       "    }\n",
       "\n",
       "    .dataframe tbody tr th {\n",
       "        vertical-align: top;\n",
       "    }\n",
       "\n",
       "    .dataframe thead th {\n",
       "        text-align: right;\n",
       "    }\n",
       "</style>\n",
       "<table border=\"1\" class=\"dataframe\">\n",
       "  <thead>\n",
       "    <tr style=\"text-align: right;\">\n",
       "      <th></th>\n",
       "      <th>Group</th>\n",
       "      <th>Conversion</th>\n",
       "      <th>Device</th>\n",
       "      <th>Location</th>\n",
       "    </tr>\n",
       "  </thead>\n",
       "  <tbody>\n",
       "    <tr>\n",
       "      <th>count</th>\n",
       "      <td>5000</td>\n",
       "      <td>5000</td>\n",
       "      <td>5000</td>\n",
       "      <td>5000</td>\n",
       "    </tr>\n",
       "    <tr>\n",
       "      <th>unique</th>\n",
       "      <td>2</td>\n",
       "      <td>2</td>\n",
       "      <td>2</td>\n",
       "      <td>4</td>\n",
       "    </tr>\n",
       "    <tr>\n",
       "      <th>top</th>\n",
       "      <td>A</td>\n",
       "      <td>No</td>\n",
       "      <td>Desktop</td>\n",
       "      <td>Scotland</td>\n",
       "    </tr>\n",
       "    <tr>\n",
       "      <th>freq</th>\n",
       "      <td>2519</td>\n",
       "      <td>4515</td>\n",
       "      <td>2538</td>\n",
       "      <td>1281</td>\n",
       "    </tr>\n",
       "  </tbody>\n",
       "</table>\n",
       "</div>"
      ],
      "text/plain": [
       "       Group Conversion   Device  Location\n",
       "count   5000       5000     5000      5000\n",
       "unique     2          2        2         4\n",
       "top        A         No  Desktop  Scotland\n",
       "freq    2519       4515     2538      1281"
      ]
     },
     "execution_count": 5,
     "metadata": {},
     "output_type": "execute_result"
    }
   ],
   "source": [
    "category=['Group','Conversion','Device','Location']\n",
    "numeric=['Page Views','Time Spent']\n",
    "df[category].describe()"
   ]
  },
  {
   "cell_type": "code",
   "execution_count": 6,
   "id": "cde9d6ae-6c32-4ac3-bad1-6ec3aa573eee",
   "metadata": {},
   "outputs": [
    {
     "data": {
      "text/plain": [
       "Location\n",
       "Scotland            1281\n",
       "England             1246\n",
       "Northern Ireland    1242\n",
       "Wales               1231\n",
       "Name: count, dtype: int64"
      ]
     },
     "execution_count": 6,
     "metadata": {},
     "output_type": "execute_result"
    }
   ],
   "source": [
    "df['Location'].value_counts()"
   ]
  },
  {
   "cell_type": "markdown",
   "id": "2c698a3b-5e61-4c08-91be-576861d4498d",
   "metadata": {},
   "source": [
    "The category value makes sense, and it is good to know that the test will be held in the United Kingdom."
   ]
  },
  {
   "cell_type": "code",
   "execution_count": 7,
   "id": "0d411786-76cd-451c-a784-df4774072b1f",
   "metadata": {},
   "outputs": [
    {
     "data": {
      "text/html": [
       "<div>\n",
       "<style scoped>\n",
       "    .dataframe tbody tr th:only-of-type {\n",
       "        vertical-align: middle;\n",
       "    }\n",
       "\n",
       "    .dataframe tbody tr th {\n",
       "        vertical-align: top;\n",
       "    }\n",
       "\n",
       "    .dataframe thead th {\n",
       "        text-align: right;\n",
       "    }\n",
       "</style>\n",
       "<table border=\"1\" class=\"dataframe\">\n",
       "  <thead>\n",
       "    <tr style=\"text-align: right;\">\n",
       "      <th></th>\n",
       "      <th>Page Views</th>\n",
       "      <th>Time Spent</th>\n",
       "    </tr>\n",
       "  </thead>\n",
       "  <tbody>\n",
       "    <tr>\n",
       "      <th>count</th>\n",
       "      <td>5000.000000</td>\n",
       "      <td>5000.000000</td>\n",
       "    </tr>\n",
       "    <tr>\n",
       "      <th>mean</th>\n",
       "      <td>7.537600</td>\n",
       "      <td>242.512600</td>\n",
       "    </tr>\n",
       "    <tr>\n",
       "      <th>std</th>\n",
       "      <td>4.022465</td>\n",
       "      <td>118.254153</td>\n",
       "    </tr>\n",
       "    <tr>\n",
       "      <th>min</th>\n",
       "      <td>1.000000</td>\n",
       "      <td>40.000000</td>\n",
       "    </tr>\n",
       "    <tr>\n",
       "      <th>25%</th>\n",
       "      <td>4.000000</td>\n",
       "      <td>137.000000</td>\n",
       "    </tr>\n",
       "    <tr>\n",
       "      <th>50%</th>\n",
       "      <td>8.000000</td>\n",
       "      <td>243.000000</td>\n",
       "    </tr>\n",
       "    <tr>\n",
       "      <th>75%</th>\n",
       "      <td>11.000000</td>\n",
       "      <td>346.000000</td>\n",
       "    </tr>\n",
       "    <tr>\n",
       "      <th>max</th>\n",
       "      <td>14.000000</td>\n",
       "      <td>449.000000</td>\n",
       "    </tr>\n",
       "  </tbody>\n",
       "</table>\n",
       "</div>"
      ],
      "text/plain": [
       "        Page Views   Time Spent\n",
       "count  5000.000000  5000.000000\n",
       "mean      7.537600   242.512600\n",
       "std       4.022465   118.254153\n",
       "min       1.000000    40.000000\n",
       "25%       4.000000   137.000000\n",
       "50%       8.000000   243.000000\n",
       "75%      11.000000   346.000000\n",
       "max      14.000000   449.000000"
      ]
     },
     "execution_count": 7,
     "metadata": {},
     "output_type": "execute_result"
    }
   ],
   "source": [
    "df[numeric].describe()"
   ]
  },
  {
   "cell_type": "markdown",
   "id": "202fc59e-a86f-4bb0-a28c-4c2c75625936",
   "metadata": {},
   "source": [
    "The numeric value makes sense, and it should be mentioned that time spent is measured in seconds."
   ]
  },
  {
   "cell_type": "markdown",
   "id": "ef451b32-5b51-4a05-a8e8-c141a969db16",
   "metadata": {
    "jp-MarkdownHeadingCollapsed": true
   },
   "source": [
    "## Data Understanding Summary"
   ]
  },
  {
   "cell_type": "markdown",
   "id": "1ddd70ca-0b55-42c8-84e0-2ee2ebc1871c",
   "metadata": {},
   "source": [
    "- Independent Feature: Group\n",
    "- Dependent Features: Page views, time spent, and conversion\n",
    "- Additional Analysis: Device and location can also be analyzed to understand their impact on dependent features.\n",
    "- Data Quality: No missing values or duplicated data.\n",
    "- Category Value: Valid, with the test being held in the United Kingdom.\n",
    "- Numeric Value: Valid, with time spent measured in seconds."
   ]
  },
  {
   "cell_type": "markdown",
   "id": "9227b108-9126-4f9c-ba68-37ff82a33704",
   "metadata": {
    "jp-MarkdownHeadingCollapsed": true
   },
   "source": [
    "## Bivariate Analysis"
   ]
  },
  {
   "cell_type": "markdown",
   "id": "50aea24f-af8f-4f6b-8112-eee6f85c9428",
   "metadata": {},
   "source": [
    "### Group x Main Dependent Features"
   ]
  },
  {
   "cell_type": "code",
   "execution_count": 27,
   "id": "1dcb7899-81c8-44e7-ac53-9dded22313a4",
   "metadata": {},
   "outputs": [
    {
     "data": {
      "text/html": [
       "<div>\n",
       "<style scoped>\n",
       "    .dataframe tbody tr th:only-of-type {\n",
       "        vertical-align: middle;\n",
       "    }\n",
       "\n",
       "    .dataframe tbody tr th {\n",
       "        vertical-align: top;\n",
       "    }\n",
       "\n",
       "    .dataframe thead th {\n",
       "        text-align: right;\n",
       "    }\n",
       "</style>\n",
       "<table border=\"1\" class=\"dataframe\">\n",
       "  <thead>\n",
       "    <tr style=\"text-align: right;\">\n",
       "      <th>Conversion</th>\n",
       "      <th>No</th>\n",
       "      <th>Yes</th>\n",
       "    </tr>\n",
       "    <tr>\n",
       "      <th>Group</th>\n",
       "      <th></th>\n",
       "      <th></th>\n",
       "    </tr>\n",
       "  </thead>\n",
       "  <tbody>\n",
       "    <tr>\n",
       "      <th>A</th>\n",
       "      <td>0.946010</td>\n",
       "      <td>0.053990</td>\n",
       "    </tr>\n",
       "    <tr>\n",
       "      <th>B</th>\n",
       "      <td>0.859331</td>\n",
       "      <td>0.140669</td>\n",
       "    </tr>\n",
       "  </tbody>\n",
       "</table>\n",
       "</div>"
      ],
      "text/plain": [
       "Conversion        No       Yes\n",
       "Group                         \n",
       "A           0.946010  0.053990\n",
       "B           0.859331  0.140669"
      ]
     },
     "execution_count": 27,
     "metadata": {},
     "output_type": "execute_result"
    }
   ],
   "source": [
    "pd.crosstab(df['Group'],df['Conversion'],normalize='index')"
   ]
  },
  {
   "cell_type": "code",
   "execution_count": 9,
   "id": "e9f5d8ef-f2eb-4f42-9102-8fd837b6e3eb",
   "metadata": {},
   "outputs": [
    {
     "data": {
      "image/png": "[encoded data removed]",
      "text/plain": [
       "<Figure size 640x480 with 1 Axes>"
      ]
     },
     "metadata": {},
     "output_type": "display_data"
    }
   ],
   "source": [
    "sns.countplot(x='Group',data=df,hue='Conversion');"
   ]
  },
  {
   "cell_type": "markdown",
   "id": "160764f0-63a9-4252-b91b-c9a217559d0f",
   "metadata": {},
   "source": [
    "Visually, it seems that B treatment give a significant impact to the conversion"
   ]
  },
  {
   "cell_type": "code",
   "execution_count": 10,
   "id": "d443ce61-852b-4376-bc2b-59f3d0c98f94",
   "metadata": {},
   "outputs": [
    {
     "data": {
      "image/png": "[encoded data removed]",
      "text/plain": [
       "<Figure size 640x480 with 1 Axes>"
      ]
     },
     "metadata": {},
     "output_type": "display_data"
    }
   ],
   "source": [
    "sns.boxplot(x='Group',y='Time Spent',data=df);"
   ]
  },
  {
   "cell_type": "code",
   "execution_count": 11,
   "id": "fbcd64d5-de3b-40ac-9c72-b0db89a05a90",
   "metadata": {},
   "outputs": [
    {
     "data": {
      "image/png": "[encoded data removed]",
      "text/plain": [
       "<Figure size 640x480 with 1 Axes>"
      ]
     },
     "metadata": {},
     "output_type": "display_data"
    }
   ],
   "source": [
    "sns.boxplot(x='Group',y='Page Views',data=df);"
   ]
  },
  {
   "cell_type": "markdown",
   "id": "aa382d1a-a05b-4ba8-851f-871982403d22",
   "metadata": {},
   "source": [
    "On the other hand, B treatment does not give any significant impact to time spent and page views"
   ]
  },
  {
   "cell_type": "markdown",
   "id": "9c9690ad-527c-42be-bc9e-18e098b4d30c",
   "metadata": {},
   "source": [
    "### Other Features"
   ]
  },
  {
   "cell_type": "code",
   "execution_count": 12,
   "id": "53a31239-1920-4321-9757-75bc3fbcb6e7",
   "metadata": {},
   "outputs": [
    {
     "data": {
      "image/png": "[encoded data removed]",
      "text/plain": [
       "<Figure size 640x480 with 1 Axes>"
      ]
     },
     "metadata": {},
     "output_type": "display_data"
    }
   ],
   "source": [
    "sns.boxplot(x='Conversion',y='Time Spent',data=df);"
   ]
  },
  {
   "cell_type": "code",
   "execution_count": 24,
   "id": "6d71b0ef-e84a-4717-80be-78e1904cfaf4",
   "metadata": {},
   "outputs": [
    {
     "data": {
      "image/png": "[encoded data removed]",
      "text/plain": [
       "<Figure size 640x480 with 1 Axes>"
      ]
     },
     "metadata": {},
     "output_type": "display_data"
    }
   ],
   "source": [
    "sns.boxplot(x='Conversion',y='Page Views',data=df);"
   ]
  },
  {
   "cell_type": "markdown",
   "id": "e5fa8330-4458-4f8a-b4a1-b0bb5c054847",
   "metadata": {},
   "source": [
    "while time spent does not seem to have a significant impact on conversion, page views do, where fewer page views lead to a conversion."
   ]
  },
  {
   "cell_type": "code",
   "execution_count": 23,
   "id": "fe983761-e543-4fdc-9660-023a94ce8fb9",
   "metadata": {},
   "outputs": [
    {
     "data": {
      "text/html": [
       "<div>\n",
       "<style scoped>\n",
       "    .dataframe tbody tr th:only-of-type {\n",
       "        vertical-align: middle;\n",
       "    }\n",
       "\n",
       "    .dataframe tbody tr th {\n",
       "        vertical-align: top;\n",
       "    }\n",
       "\n",
       "    .dataframe thead th {\n",
       "        text-align: right;\n",
       "    }\n",
       "</style>\n",
       "<table border=\"1\" class=\"dataframe\">\n",
       "  <thead>\n",
       "    <tr style=\"text-align: right;\">\n",
       "      <th></th>\n",
       "      <th>Time Spent</th>\n",
       "      <th>Page Views</th>\n",
       "    </tr>\n",
       "  </thead>\n",
       "  <tbody>\n",
       "    <tr>\n",
       "      <th>Time Spent</th>\n",
       "      <td>1.000000</td>\n",
       "      <td>-0.001484</td>\n",
       "    </tr>\n",
       "    <tr>\n",
       "      <th>Page Views</th>\n",
       "      <td>-0.001484</td>\n",
       "      <td>1.000000</td>\n",
       "    </tr>\n",
       "  </tbody>\n",
       "</table>\n",
       "</div>"
      ],
      "text/plain": [
       "            Time Spent  Page Views\n",
       "Time Spent    1.000000   -0.001484\n",
       "Page Views   -0.001484    1.000000"
      ]
     },
     "execution_count": 23,
     "metadata": {},
     "output_type": "execute_result"
    }
   ],
   "source": [
    "correlation_matrix.corr()"
   ]
  },
  {
   "cell_type": "markdown",
   "id": "2e03250f-5d07-4321-9310-d4decccde4d3",
   "metadata": {},
   "source": [
    "Time spent and page views themselves do not have any correlation."
   ]
  },
  {
   "cell_type": "code",
   "execution_count": 28,
   "id": "7dea31ae-a2b6-4372-8335-afba72c04a78",
   "metadata": {},
   "outputs": [
    {
     "data": {
      "text/html": [
       "<div>\n",
       "<style scoped>\n",
       "    .dataframe tbody tr th:only-of-type {\n",
       "        vertical-align: middle;\n",
       "    }\n",
       "\n",
       "    .dataframe tbody tr th {\n",
       "        vertical-align: top;\n",
       "    }\n",
       "\n",
       "    .dataframe thead th {\n",
       "        text-align: right;\n",
       "    }\n",
       "</style>\n",
       "<table border=\"1\" class=\"dataframe\">\n",
       "  <thead>\n",
       "    <tr style=\"text-align: right;\">\n",
       "      <th>Conversion</th>\n",
       "      <th>No</th>\n",
       "      <th>Yes</th>\n",
       "    </tr>\n",
       "    <tr>\n",
       "      <th>Device</th>\n",
       "      <th></th>\n",
       "      <th></th>\n",
       "    </tr>\n",
       "  </thead>\n",
       "  <tbody>\n",
       "    <tr>\n",
       "      <th>Desktop</th>\n",
       "      <td>0.900315</td>\n",
       "      <td>0.099685</td>\n",
       "    </tr>\n",
       "    <tr>\n",
       "      <th>Mobile</th>\n",
       "      <td>0.905768</td>\n",
       "      <td>0.094232</td>\n",
       "    </tr>\n",
       "  </tbody>\n",
       "</table>\n",
       "</div>"
      ],
      "text/plain": [
       "Conversion        No       Yes\n",
       "Device                        \n",
       "Desktop     0.900315  0.099685\n",
       "Mobile      0.905768  0.094232"
      ]
     },
     "execution_count": 28,
     "metadata": {},
     "output_type": "execute_result"
    }
   ],
   "source": [
    "pd.crosstab(df['Device'],df['Conversion'],normalize='index')"
   ]
  },
  {
   "cell_type": "code",
   "execution_count": 32,
   "id": "9334f9be-ed8b-4778-869e-e5fbbaa249a6",
   "metadata": {},
   "outputs": [
    {
     "data": {
      "text/plain": [
       "<Axes: xlabel='Device', ylabel='count'>"
      ]
     },
     "execution_count": 32,
     "metadata": {},
     "output_type": "execute_result"
    },
    {
     "data": {
      "image/png": "[encoded data removed]",
      "text/plain": [
       "<Figure size 640x480 with 1 Axes>"
      ]
     },
     "metadata": {},
     "output_type": "display_data"
    }
   ],
   "source": [
    "sns.countplot(x='Device',data=df,hue='Conversion')"
   ]
  },
  {
   "cell_type": "markdown",
   "id": "2f9fd9f5-5088-44d6-9401-3d358ab379f5",
   "metadata": {},
   "source": [
    "Desktop has a slightly higher rate of conversion"
   ]
  },
  {
   "cell_type": "code",
   "execution_count": 31,
   "id": "9b23c47b-6b93-47f2-959c-abbd90ad83a9",
   "metadata": {},
   "outputs": [
    {
     "data": {
      "text/html": [
       "<div>\n",
       "<style scoped>\n",
       "    .dataframe tbody tr th:only-of-type {\n",
       "        vertical-align: middle;\n",
       "    }\n",
       "\n",
       "    .dataframe tbody tr th {\n",
       "        vertical-align: top;\n",
       "    }\n",
       "\n",
       "    .dataframe thead th {\n",
       "        text-align: right;\n",
       "    }\n",
       "</style>\n",
       "<table border=\"1\" class=\"dataframe\">\n",
       "  <thead>\n",
       "    <tr style=\"text-align: right;\">\n",
       "      <th>Conversion</th>\n",
       "      <th>No</th>\n",
       "      <th>Yes</th>\n",
       "    </tr>\n",
       "    <tr>\n",
       "      <th>Location</th>\n",
       "      <th></th>\n",
       "      <th></th>\n",
       "    </tr>\n",
       "  </thead>\n",
       "  <tbody>\n",
       "    <tr>\n",
       "      <th>England</th>\n",
       "      <td>0.890851</td>\n",
       "      <td>0.109149</td>\n",
       "    </tr>\n",
       "    <tr>\n",
       "      <th>Wales</th>\n",
       "      <td>0.901706</td>\n",
       "      <td>0.098294</td>\n",
       "    </tr>\n",
       "    <tr>\n",
       "      <th>Scotland</th>\n",
       "      <td>0.902420</td>\n",
       "      <td>0.097580</td>\n",
       "    </tr>\n",
       "    <tr>\n",
       "      <th>Northern Ireland</th>\n",
       "      <td>0.917069</td>\n",
       "      <td>0.082931</td>\n",
       "    </tr>\n",
       "  </tbody>\n",
       "</table>\n",
       "</div>"
      ],
      "text/plain": [
       "Conversion              No       Yes\n",
       "Location                            \n",
       "England           0.890851  0.109149\n",
       "Wales             0.901706  0.098294\n",
       "Scotland          0.902420  0.097580\n",
       "Northern Ireland  0.917069  0.082931"
      ]
     },
     "execution_count": 31,
     "metadata": {},
     "output_type": "execute_result"
    }
   ],
   "source": [
    "pd.crosstab(df['Location'],df['Conversion'],normalize='index').sort_values(by='Yes',ascending=False)"
   ]
  },
  {
   "cell_type": "code",
   "execution_count": 35,
   "id": "3dbc503c-dd39-4966-b7d5-eb51921e5143",
   "metadata": {},
   "outputs": [
    {
     "data": {
      "text/plain": [
       "<Axes: xlabel='Location', ylabel='count'>"
      ]
     },
     "execution_count": 35,
     "metadata": {},
     "output_type": "execute_result"
    },
    {
     "data": {
      "image/png": "[encoded data removed]",
      "text/plain": [
       "<Figure size 640x480 with 1 Axes>"
      ]
     },
     "metadata": {},
     "output_type": "display_data"
    }
   ],
   "source": [
    "sns.countplot(x='Location',data=df,hue='Conversion')"
   ]
  },
  {
   "cell_type": "markdown",
   "id": "85d81bd1-4a3e-4ad9-8a1e-87b185fd388a",
   "metadata": {},
   "source": [
    "England has the highest conversion, followed by wales, scotland, and northern ireland"
   ]
  },
  {
   "cell_type": "markdown",
   "id": "3996eb54-9381-4b0b-9b3d-7625dbea2c0c",
   "metadata": {
    "jp-MarkdownHeadingCollapsed": true
   },
   "source": [
    "## Bivariate Analysis Summary"
   ]
  },
  {
   "cell_type": "markdown",
   "id": "25425189-290c-4619-a788-d553a67e672f",
   "metadata": {},
   "source": [
    "- The B treatment appears to have a significant positive impact on conversion.\n",
    "- The B treatment does not have a significant impact on time spent and page views.\n",
    "- Time spent does not seem to significantly impact conversion.\n",
    "- Page views do impact conversion, where fewer page views are associated with a higher likelihood of conversion.\n",
    "- Time spent and page views do not have any correlation with each other.\n",
    "- Desktop has a slightly higher rate of conversion\n",
    "- England has the highest conversion, followed by wales, scotland, and northern ireland"
   ]
  },
  {
   "cell_type": "markdown",
   "id": "b7adfe85-2d8c-4d3c-904e-34e8176a3c9d",
   "metadata": {},
   "source": [
    "## Hypothesis"
   ]
  },
  {
   "cell_type": "markdown",
   "id": "eae96b5a-78d8-4234-9a0c-64b838c6ef2d",
   "metadata": {
    "jp-MarkdownHeadingCollapsed": true
   },
   "source": [
    "### Primary Hypothesis"
   ]
  },
  {
   "cell_type": "markdown",
   "id": "702833b8-2127-4462-bb92-fe750a6184f0",
   "metadata": {},
   "source": [
    "#### H1: Treatment B has a positive and significant impact on conversion rates compared to Treatment A.\n",
    "H0: Treatment B does not have a significant impact on conversion rates compared to Treatment A."
   ]
  },
  {
   "cell_type": "markdown",
   "id": "b052a978-0ed2-49e0-b7c9-a5e44f5c536e",
   "metadata": {
    "jp-MarkdownHeadingCollapsed": true
   },
   "source": [
    "### Secondary Hypothesis"
   ]
  },
  {
   "cell_type": "markdown",
   "id": "08ffaa57-9a3b-4134-9f82-1961acddcbac",
   "metadata": {},
   "source": [
    "#### H2: Treatment B does not significantly impact time spent on the page.\n",
    "H0: Treatment B significantly impacts time spent on the page.\n",
    "#### H3: Treatment B does not significantly impact page views.\n",
    "H0: Treatment B significantly impacts page views.\n",
    "#### H4: Time spent on the page does not have a significant correlation with conversion rates.\n",
    "H0: Time spent on the page has a significant correlation with conversion rates.\n",
    "#### H5: Page views have a negative correlation with conversion rates, where fewer page views are associated with higher conversion rates.\n",
    "H0: Page views do not have a significant correlation with conversion rates.\n",
    "#### H6: Time spent on the page and page views do not have a significant correlation with each other.\n",
    "H0: Time spent on the page and page views have a significant correlation with each other.\n",
    "#### H7: Desktop users have a higher conversion rate compared to mobile users.\n",
    "H0: Desktop users do not have a higher conversion rate compared to mobile users.\n",
    "#### H8: Conversion rates differ significantly across regions, with England having the highest conversion rate, followed by Wales, Scotland, and Northern Ireland.\n",
    "H0: There is no significant difference in conversion rates across regions."
   ]
  },
  {
   "cell_type": "markdown",
   "id": "e77dfdd9-8570-4254-b3f1-b87525e3cb0b",
   "metadata": {
    "jp-MarkdownHeadingCollapsed": true
   },
   "source": [
    "## Statistical Test"
   ]
  },
  {
   "cell_type": "markdown",
   "id": "88c9d85c-e6dc-4bcf-b709-b451ee5b6ce9",
   "metadata": {},
   "source": [
    "### Primary Hypothesis"
   ]
  },
  {
   "cell_type": "code",
   "execution_count": 46,
   "id": "f94681a0-55a2-458b-82b9-81496c1fb5dd",
   "metadata": {},
   "outputs": [
    {
     "data": {
      "text/html": [
       "<div>\n",
       "<style scoped>\n",
       "    .dataframe tbody tr th:only-of-type {\n",
       "        vertical-align: middle;\n",
       "    }\n",
       "\n",
       "    .dataframe tbody tr th {\n",
       "        vertical-align: top;\n",
       "    }\n",
       "\n",
       "    .dataframe thead th {\n",
       "        text-align: right;\n",
       "    }\n",
       "</style>\n",
       "<table border=\"1\" class=\"dataframe\">\n",
       "  <thead>\n",
       "    <tr style=\"text-align: right;\">\n",
       "      <th>Conversion</th>\n",
       "      <th>No</th>\n",
       "      <th>Yes</th>\n",
       "    </tr>\n",
       "    <tr>\n",
       "      <th>Group</th>\n",
       "      <th></th>\n",
       "      <th></th>\n",
       "    </tr>\n",
       "  </thead>\n",
       "  <tbody>\n",
       "    <tr>\n",
       "      <th>A</th>\n",
       "      <td>2383</td>\n",
       "      <td>136</td>\n",
       "    </tr>\n",
       "    <tr>\n",
       "      <th>B</th>\n",
       "      <td>2132</td>\n",
       "      <td>349</td>\n",
       "    </tr>\n",
       "  </tbody>\n",
       "</table>\n",
       "</div>"
      ],
      "text/plain": [
       "Conversion    No  Yes\n",
       "Group                \n",
       "A           2383  136\n",
       "B           2132  349"
      ]
     },
     "execution_count": 46,
     "metadata": {},
     "output_type": "execute_result"
    }
   ],
   "source": [
    "contingency_table=pd.crosstab(df['Group'],df['Conversion'])\n",
    "contingency_table"
   ]
  },
  {
   "cell_type": "code",
   "execution_count": 47,
   "id": "79bf7580-ac41-4f1f-a009-0683e5928a1d",
   "metadata": {},
   "outputs": [
    {
     "name": "stdout",
     "output_type": "stream",
     "text": [
      "The difference in conversion rate accross Group is statistically significant since the P value is 6.571736018334222e-25\n"
     ]
    }
   ],
   "source": [
    "alpha=0.05\n",
    "chi2, p, _, _=chi2_contingency(contingency_table)\n",
    "if p<alpha:\n",
    "    print(f'The difference in conversion rate accross {'Group'} is statistically significant since the P value is {p}')\n",
    "else:\n",
    "    print('There is no significant difference')"
   ]
  },
  {
   "cell_type": "markdown",
   "id": "8a49d500-4a1c-4923-9390-467a1678e699",
   "metadata": {},
   "source": [
    "### Secondary Hypothesis"
   ]
  },
  {
   "cell_type": "markdown",
   "id": "78ad62ad-e6da-40ed-9dea-82d22d772229",
   "metadata": {},
   "source": [
    "#### Group and Time Spent Test"
   ]
  },
  {
   "cell_type": "code",
   "execution_count": 86,
   "id": "c89afb4d-0e4d-4b4c-a8c5-bf6fb217828f",
   "metadata": {},
   "outputs": [
    {
     "name": "stdout",
     "output_type": "stream",
     "text": [
      "0.0\n",
      "0.0\n"
     ]
    }
   ],
   "source": [
    "# kolmogorov smirnov is used since the dataset is large (5000)\n",
    "ks_stat_A,ks_p_value_A=kstest(df[df['Group']=='A']['Time Spent'],'norm')\n",
    "ks_stat_A,ks_p_value_B=kstest(df[df['Group']=='B']['Time Spent'],'norm')\n",
    "print(ks_p_value_A)\n",
    "print(ks_p_value_B)\n",
    "# The data is not normal, mannwhitneyu test will be used"
   ]
  },
  {
   "cell_type": "code",
   "execution_count": 87,
   "id": "9e87fd07-0d1d-4127-981e-6bacfcffb8c2",
   "metadata": {},
   "outputs": [
    {
     "data": {
      "text/plain": [
       "0.6420301034033706"
      ]
     },
     "execution_count": 87,
     "metadata": {},
     "output_type": "execute_result"
    }
   ],
   "source": [
    "# mannwhitneyu test\n",
    "u_stat,u_p_value=mannwhitneyu(df[df['Group']=='A']['Time Spent'],df[df['Group']=='B']['Time Spent'])\n",
    "u_p_value"
   ]
  },
  {
   "cell_type": "markdown",
   "id": "1d642b68-1a73-4b11-a0f1-5d9800f34cd5",
   "metadata": {},
   "source": [
    "The p values is higher than 0.05, means that the difference in time spent of each group is not significant"
   ]
  },
  {
   "cell_type": "markdown",
   "id": "bd6367ce-15b9-4472-8233-d8f215a3a500",
   "metadata": {},
   "source": [
    "#### Group and Page Views Test"
   ]
  },
  {
   "cell_type": "code",
   "execution_count": 89,
   "id": "3c42386f-d13c-41e8-aedf-24b1999ddbcf",
   "metadata": {},
   "outputs": [
    {
     "name": "stdout",
     "output_type": "stream",
     "text": [
      "0.0\n",
      "0.0\n"
     ]
    }
   ],
   "source": [
    "# kolmogorov smirnov is used since the dataset is large (5000)\n",
    "ks_stat_A,ks_p_value_A=kstest(df[df['Group']=='A']['Page Views'],'norm')\n",
    "ks_stat_A,ks_p_value_B=kstest(df[df['Group']=='B']['Page Views'],'norm')\n",
    "print(ks_p_value_A)\n",
    "print(ks_p_value_B)\n",
    "# The data is not normal, mannwhitneyu test will be used"
   ]
  },
  {
   "cell_type": "code",
   "execution_count": 90,
   "id": "87d332ce-2b02-4772-9bbd-23bb0551bea8",
   "metadata": {},
   "outputs": [
    {
     "data": {
      "text/plain": [
       "0.42467839841511335"
      ]
     },
     "execution_count": 90,
     "metadata": {},
     "output_type": "execute_result"
    }
   ],
   "source": [
    "# mannwhitneyu test\n",
    "u_stat,u_p_value=mannwhitneyu(df[df['Group']=='A']['Page Views'],df[df['Group']=='B']['Page Views'])\n",
    "u_p_value"
   ]
  },
  {
   "cell_type": "markdown",
   "id": "910944b3-27c0-498b-96a8-39e314567a28",
   "metadata": {},
   "source": [
    "The p values is higher than 0.05, means that the difference in page views of each group is not significant"
   ]
  },
  {
   "cell_type": "markdown",
   "id": "657f7522-735a-4113-8028-34be8196ed5d",
   "metadata": {},
   "source": [
    "#### Conversion and Time Spent Test"
   ]
  },
  {
   "cell_type": "code",
   "execution_count": 49,
   "id": "ffc69faa-1756-4ec2-99d0-db9f517f6d41",
   "metadata": {},
   "outputs": [
    {
     "name": "stdout",
     "output_type": "stream",
     "text": [
      "0.0\n",
      "0.0\n"
     ]
    }
   ],
   "source": [
    "# kolmogorov smirnov is used since the dataset is large (5000)\n",
    "ks_stat_A,ks_p_value_A=kstest(df[df['Conversion']=='Yes']['Time Spent'],'norm')\n",
    "ks_stat_A,ks_p_value_B=kstest(df[df['Conversion']=='No']['Time Spent'],'norm')\n",
    "print(ks_p_value_A)\n",
    "print(ks_p_value_B)\n",
    "# The data is not normal, mannwhitneyu test will be used"
   ]
  },
  {
   "cell_type": "code",
   "execution_count": 50,
   "id": "3496d01d-e5fb-4218-a752-cb5800b86185",
   "metadata": {},
   "outputs": [
    {
     "data": {
      "text/plain": [
       "0.8876205916265301"
      ]
     },
     "execution_count": 50,
     "metadata": {},
     "output_type": "execute_result"
    }
   ],
   "source": [
    "# mannwhitneyu test\n",
    "u_stat,u_p_value=mannwhitneyu(df[df['Conversion']=='Yes']['Time Spent'],df[df['Conversion']=='No']['Time Spent'])\n",
    "u_p_value"
   ]
  },
  {
   "cell_type": "markdown",
   "id": "17c9cda4-d70b-4038-9087-1414b7436694",
   "metadata": {},
   "source": [
    "The p values is higher than 0.05, means that the difference in time spent of each conversion is not significant"
   ]
  },
  {
   "cell_type": "markdown",
   "id": "0e233a81-e38a-4078-b99b-aab09bdc2c13",
   "metadata": {},
   "source": [
    "#### Conversion and Page Views Test"
   ]
  },
  {
   "cell_type": "code",
   "execution_count": 51,
   "id": "1c9b1759-3066-4e8b-bf07-9e6bf7c7b3a3",
   "metadata": {},
   "outputs": [
    {
     "name": "stdout",
     "output_type": "stream",
     "text": [
      "0.0\n",
      "0.0\n"
     ]
    }
   ],
   "source": [
    "# kolmogorov smirnov is used since the dataset is large (5000)\n",
    "ks_stat_A,ks_p_value_A=kstest(df[df['Conversion']=='Yes']['Page Views'],'norm')\n",
    "ks_stat_A,ks_p_value_B=kstest(df[df['Conversion']=='No']['Page Views'],'norm')\n",
    "print(ks_p_value_A)\n",
    "print(ks_p_value_B)\n",
    "# The data is not normal, mannwhitneyu test will be used"
   ]
  },
  {
   "cell_type": "code",
   "execution_count": 52,
   "id": "8c456178-a999-48ff-a4f8-bf5c928a1f60",
   "metadata": {},
   "outputs": [
    {
     "data": {
      "text/plain": [
       "0.19308420920890446"
      ]
     },
     "execution_count": 52,
     "metadata": {},
     "output_type": "execute_result"
    }
   ],
   "source": [
    "# mannwhitneyu test\n",
    "u_stat,u_p_value=mannwhitneyu(df[df['Conversion']=='Yes']['Page Views'],df[df['Conversion']=='No']['Page Views'])\n",
    "u_p_value"
   ]
  },
  {
   "cell_type": "markdown",
   "id": "736604eb-682c-402b-9276-1b83b4729b8a",
   "metadata": {},
   "source": [
    "The p values is higher than 0.05, means that the difference in page views of each conversion is not significant"
   ]
  },
  {
   "cell_type": "markdown",
   "id": "1f2c158b-d1f8-41d3-9032-4aa0ed418514",
   "metadata": {},
   "source": [
    "#### Time Spent and Page Views"
   ]
  },
  {
   "cell_type": "code",
   "execution_count": 54,
   "id": "2cb2d818-8155-4030-b240-e2965e12433e",
   "metadata": {},
   "outputs": [
    {
     "name": "stdout",
     "output_type": "stream",
     "text": [
      "0.0\n",
      "0.0\n"
     ]
    }
   ],
   "source": [
    "# kolmogorov smirnov is used since the dataset is large (5000)\n",
    "ks_stat_A,ks_p_value_A=kstest(df['Page Views'],'norm')\n",
    "ks_stat_A,ks_p_value_B=kstest(df['Time Spent'],'norm')\n",
    "print(ks_p_value_A)\n",
    "print(ks_p_value_B)\n",
    "# The data is not normal, so spearman will be used for the correlation validation"
   ]
  },
  {
   "cell_type": "code",
   "execution_count": 62,
   "id": "2f15f63d-4fcc-41ec-ac81-3769134e6163",
   "metadata": {},
   "outputs": [
    {
     "name": "stdout",
     "output_type": "stream",
     "text": [
      "-0.0013794925797965746\n",
      "0.9223130447290918\n"
     ]
    }
   ],
   "source": [
    "corr, p_value=spearmanr(df['Page Views'],df['Time Spent'])\n",
    "print(corr)\n",
    "print(p_value)"
   ]
  },
  {
   "cell_type": "markdown",
   "id": "0587fc57-3c57-4a23-9369-c01e4ae5adad",
   "metadata": {},
   "source": [
    "The correlation is not significant"
   ]
  },
  {
   "cell_type": "markdown",
   "id": "27099074-821c-4375-9d4b-98b2e9dbd458",
   "metadata": {},
   "source": [
    "#### Conversion and Device"
   ]
  },
  {
   "cell_type": "code",
   "execution_count": 63,
   "id": "d6302df3-4473-4a14-895b-df11aca88890",
   "metadata": {},
   "outputs": [
    {
     "data": {
      "text/html": [
       "<div>\n",
       "<style scoped>\n",
       "    .dataframe tbody tr th:only-of-type {\n",
       "        vertical-align: middle;\n",
       "    }\n",
       "\n",
       "    .dataframe tbody tr th {\n",
       "        vertical-align: top;\n",
       "    }\n",
       "\n",
       "    .dataframe thead th {\n",
       "        text-align: right;\n",
       "    }\n",
       "</style>\n",
       "<table border=\"1\" class=\"dataframe\">\n",
       "  <thead>\n",
       "    <tr style=\"text-align: right;\">\n",
       "      <th>Conversion</th>\n",
       "      <th>No</th>\n",
       "      <th>Yes</th>\n",
       "    </tr>\n",
       "    <tr>\n",
       "      <th>Device</th>\n",
       "      <th></th>\n",
       "      <th></th>\n",
       "    </tr>\n",
       "  </thead>\n",
       "  <tbody>\n",
       "    <tr>\n",
       "      <th>Desktop</th>\n",
       "      <td>2285</td>\n",
       "      <td>253</td>\n",
       "    </tr>\n",
       "    <tr>\n",
       "      <th>Mobile</th>\n",
       "      <td>2230</td>\n",
       "      <td>232</td>\n",
       "    </tr>\n",
       "  </tbody>\n",
       "</table>\n",
       "</div>"
      ],
      "text/plain": [
       "Conversion    No  Yes\n",
       "Device               \n",
       "Desktop     2285  253\n",
       "Mobile      2230  232"
      ]
     },
     "execution_count": 63,
     "metadata": {},
     "output_type": "execute_result"
    }
   ],
   "source": [
    "contingency_table_device=pd.crosstab(df['Device'],df['Conversion'])\n",
    "contingency_table_device"
   ]
  },
  {
   "cell_type": "code",
   "execution_count": 67,
   "id": "b8af905b-c5a2-433e-9943-72e5b38fcf2a",
   "metadata": {},
   "outputs": [
    {
     "name": "stdout",
     "output_type": "stream",
     "text": [
      "There is no significant difference of conversion in each device\n"
     ]
    }
   ],
   "source": [
    "alpha=0.05\n",
    "chi2, p, _, _=chi2_contingency(contingency_table_device)\n",
    "if p<alpha:\n",
    "    print(f'The difference in conversion rate accross group and device is statistically significant since the P value is {p}')\n",
    "else:\n",
    "    print('There is no significant difference of conversion in each device')"
   ]
  },
  {
   "cell_type": "markdown",
   "id": "db8fe8f9-1d60-494f-be8e-f4d18919b673",
   "metadata": {},
   "source": [
    "#### Conversion and Location"
   ]
  },
  {
   "cell_type": "code",
   "execution_count": 65,
   "id": "1ba10360-504a-4ee2-b8e1-39c3cde31d7e",
   "metadata": {},
   "outputs": [
    {
     "data": {
      "text/html": [
       "<div>\n",
       "<style scoped>\n",
       "    .dataframe tbody tr th:only-of-type {\n",
       "        vertical-align: middle;\n",
       "    }\n",
       "\n",
       "    .dataframe tbody tr th {\n",
       "        vertical-align: top;\n",
       "    }\n",
       "\n",
       "    .dataframe thead th {\n",
       "        text-align: right;\n",
       "    }\n",
       "</style>\n",
       "<table border=\"1\" class=\"dataframe\">\n",
       "  <thead>\n",
       "    <tr style=\"text-align: right;\">\n",
       "      <th>Conversion</th>\n",
       "      <th>No</th>\n",
       "      <th>Yes</th>\n",
       "    </tr>\n",
       "    <tr>\n",
       "      <th>Location</th>\n",
       "      <th></th>\n",
       "      <th></th>\n",
       "    </tr>\n",
       "  </thead>\n",
       "  <tbody>\n",
       "    <tr>\n",
       "      <th>England</th>\n",
       "      <td>1110</td>\n",
       "      <td>136</td>\n",
       "    </tr>\n",
       "    <tr>\n",
       "      <th>Northern Ireland</th>\n",
       "      <td>1139</td>\n",
       "      <td>103</td>\n",
       "    </tr>\n",
       "    <tr>\n",
       "      <th>Scotland</th>\n",
       "      <td>1156</td>\n",
       "      <td>125</td>\n",
       "    </tr>\n",
       "    <tr>\n",
       "      <th>Wales</th>\n",
       "      <td>1110</td>\n",
       "      <td>121</td>\n",
       "    </tr>\n",
       "  </tbody>\n",
       "</table>\n",
       "</div>"
      ],
      "text/plain": [
       "Conversion          No  Yes\n",
       "Location                   \n",
       "England           1110  136\n",
       "Northern Ireland  1139  103\n",
       "Scotland          1156  125\n",
       "Wales             1110  121"
      ]
     },
     "execution_count": 65,
     "metadata": {},
     "output_type": "execute_result"
    }
   ],
   "source": [
    "contingency_table_location=pd.crosstab(df['Location'],df['Conversion'])\n",
    "contingency_table_location"
   ]
  },
  {
   "cell_type": "code",
   "execution_count": 68,
   "id": "7665b757-491e-4bb9-b110-869408df8532",
   "metadata": {},
   "outputs": [
    {
     "name": "stdout",
     "output_type": "stream",
     "text": [
      "There is no significant difference of conversion in each location\n"
     ]
    }
   ],
   "source": [
    "alpha=0.05\n",
    "chi2, p, _, _=chi2_contingency(contingency_table_location)\n",
    "if p<alpha:\n",
    "    print(f'The difference in conversion rate accross group and device is statistically significant since the P value is {p}')\n",
    "else:\n",
    "    print('There is no significant difference of conversion in each location')"
   ]
  },
  {
   "cell_type": "markdown",
   "id": "805679b7-bd86-49ff-a24a-60f66667699b",
   "metadata": {},
   "source": [
    "## Statistical Test Summary"
   ]
  },
  {
   "cell_type": "markdown",
   "id": "2fc3b532-99e5-4105-a4df-67b2afc63353",
   "metadata": {
    "jp-MarkdownHeadingCollapsed": true
   },
   "source": [
    "### Primary Hypothesis"
   ]
  },
  {
   "cell_type": "markdown",
   "id": "b82ed203-458f-40b8-aa54-20ecadbdf20d",
   "metadata": {},
   "source": [
    "#### H1\n",
    "- Finding: The difference in conversion rates across Group A and Group B is statistically significant (p-value: 6.57e-25, less than 0.05).\n",
    "- Conclusion: We reject the null hypothesis (H0) and accept H1: Treatment B has a positive and significant impact on conversion rates compared to Treatment A."
   ]
  },
  {
   "cell_type": "markdown",
   "id": "cc3fc1b0-c250-4b12-9888-ed6e72065e2d",
   "metadata": {
    "jp-MarkdownHeadingCollapsed": true
   },
   "source": [
    "### Secondary Hypothesis"
   ]
  },
  {
   "cell_type": "markdown",
   "id": "31c4839b-611f-40c3-9571-df6995086fd0",
   "metadata": {},
   "source": [
    "#### H2\n",
    "- Finding: The p-value for the difference in time spent between groups is greater than 0.05, indicating no significant difference.\n",
    "- Conclusion: We fail to reject the null hypothesis (H0) and accept H2: Treatment B does not significantly impact time spent on the page.\n",
    "#### H3\n",
    "- Finding: The p-value for the difference in page views between groups is greater than 0.05, indicating no significant difference.\n",
    "- Conclusion: We fail to reject the null hypothesis (H0) and accept H3: Treatment B does not significantly impact page views.\n",
    "#### H4\n",
    "- Finding: The p-value for the relationship between time spent and conversion is greater than 0.05, indicating no significant correlation.\n",
    "- Conclusion: We fail to reject the null hypothesis (H0) and accept H4: Time spent on the page does not have a significant correlation with conversion rates.\n",
    "#### H5\n",
    "- Finding: The p-value for the relationship between page views and conversion is greater than 0.05, indicating no significant correlation.\n",
    "- Conclusion: We fail to reject the null hypothesis (H0) and reject H5: Page views do not significantly correlate with conversion rates.\n",
    "#### H6\n",
    "- Finding: The correlation between time spent and page views is not significant.\n",
    "- Conclusion: We fail to reject the null hypothesis (H0) and accept H6: Time spent on the page and page views do not have a significant correlation with each other.\n",
    "#### H7\n",
    "- Finding: There is no significant difference in conversion rates between devices (e.g., desktop vs. mobile).\n",
    "- Conclusion: We fail to reject the null hypothesis (H0) and reject H7: Device type does not significantly impact conversion rates.\n",
    "#### H8\n",
    "- Finding: There is no significant difference in conversion rates across regions (e.g., England, Wales, Scotland, and Northern Ireland).\n",
    "- Conclusion: We fail to reject the null hypothesis (H0) and reject H8: Location does not significantly impact conversion rates."
   ]
  }
 ],
 "metadata": {
  "kernelspec": {
   "display_name": "Python 3 (ipykernel)",
   "language": "python",
   "name": "python3"
  },
  "language_info": {
   "codemirror_mode": {
    "name": "ipython",
    "version": 3
   },
   "file_extension": ".py",
   "mimetype": "text/x-python",
   "name": "python",
   "nbconvert_exporter": "python",
   "pygments_lexer": "ipython3",
   "version": "3.12.7"
  }
 },
 "nbformat": 4,
 "nbformat_minor": 5
}
