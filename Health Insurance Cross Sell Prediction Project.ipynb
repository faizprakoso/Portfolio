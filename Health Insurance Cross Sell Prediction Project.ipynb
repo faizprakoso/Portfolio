{
 "cells": [
  {
   "cell_type": "markdown",
   "metadata": {},
   "source": [
    "**Author: Muhammad Faiz Aji Prakoso**"
   ]
  },
  {
   "cell_type": "markdown",
   "metadata": {},
   "source": [
    "# Health Insurance Cross Selling"
   ]
  },
  {
   "cell_type": "code",
   "execution_count": 1,
   "metadata": {},
   "outputs": [],
   "source": [
    "import numpy as np\n",
    "import pandas as pd\n",
    "import matplotlib.pyplot as plt\n",
    "import seaborn as sns\n",
    "from scipy import stats\n",
    "\n",
    "from sklearn.metrics import confusion_matrix\n",
    "from sklearn.metrics import precision_score, recall_score\n",
    "from sklearn.metrics import accuracy_score\n",
    "from sklearn.metrics import classification_report\n",
    "from sklearn.metrics import roc_auc_score,roc_curve\n",
    "\n",
    "from sklearn.preprocessing import MinMaxScaler, StandardScaler\n",
    "\n",
    "from sklearn.model_selection import GridSearchCV\n",
    "from sklearn.model_selection import RandomizedSearchCV\n",
    "from scipy.stats import uniform\n",
    "from sklearn.model_selection import train_test_split\n",
    "\n",
    "from sklearn.linear_model import LogisticRegression\n",
    "from sklearn.neighbors import KNeighborsClassifier\n",
    "from sklearn.tree import DecisionTreeClassifier\n",
    "from sklearn.ensemble import AdaBoostClassifier\n",
    "from xgboost import XGBClassifier\n",
    "from imblearn import over_sampling,under_sampling\n",
    "from sklearn.ensemble import RandomForestClassifier"
   ]
  },
  {
   "cell_type": "markdown",
   "metadata": {},
   "source": [
    "# Background"
   ]
  },
  {
   "cell_type": "markdown",
   "metadata": {},
   "source": [
    "Our client was originally an insurance company that only focused on **health insurance services**. Seeing the potential that exists, our client plans to provide **vehicle insurance services** as well with the hope of **increasing the company's profits**. To make this new service successful, our client plans to use a **cross-selling strategy**.\n",
    "\n",
    "Basically, cross-selling is a strategy to approach consumers who have **previously used the company's products**. In our client case, the approach was made to consumers who had **previously used health insurance services**. The **Sales Agent Team** was asked to make this strategy a success by taking a personal approach to each customer. However, the sales agent team **encountered problems** when approaching them customer.\n",
    "\n",
    "Based on a report from the Sales Agent team, the cross-selling strategy was **considered ineffective**. Of all consumers who have been contacted by the sales agent, **only 12% are interested** in using vehicle insurance. Apart from these problems, contacting all consumers who use health services is also considered inefficient due to **limited time and human resources** in the Sales Agent team itself. To solve this problem, tools are needed that can **predict potential customers for vehicle insurance** in the hope that sales agents can approach them effectively and efficiently.\n",
    "\n",
    "We offers a solution in the form of a **machine learning model** that can predict potential customers for vehicle insurance. With demographic data, vehicles and policy types from customers who use health insurance services, the machine learning model that is formed can predict potential customers who will be interested in using vehicle insurance services. With this prediction, the sales agent can build more effective and efficient communication to potential customers so that vehicle insurance service users will increase along with the **company's profits**."
   ]
  },
  {
   "cell_type": "markdown",
   "metadata": {},
   "source": [
    "# Data Understanding"
   ]
  },
  {
   "cell_type": "code",
   "execution_count": 2,
   "metadata": {},
   "outputs": [
    {
     "data": {
      "text/html": [
       "<div>\n",
       "<style scoped>\n",
       "    .dataframe tbody tr th:only-of-type {\n",
       "        vertical-align: middle;\n",
       "    }\n",
       "\n",
       "    .dataframe tbody tr th {\n",
       "        vertical-align: top;\n",
       "    }\n",
       "\n",
       "    .dataframe thead th {\n",
       "        text-align: right;\n",
       "    }\n",
       "</style>\n",
       "<table border=\"1\" class=\"dataframe\">\n",
       "  <thead>\n",
       "    <tr style=\"text-align: right;\">\n",
       "      <th></th>\n",
       "      <th>id</th>\n",
       "      <th>Gender</th>\n",
       "      <th>Age</th>\n",
       "      <th>Driving_License</th>\n",
       "      <th>Region_Code</th>\n",
       "      <th>Previously_Insured</th>\n",
       "      <th>Vehicle_Age</th>\n",
       "      <th>Vehicle_Damage</th>\n",
       "      <th>Annual_Premium</th>\n",
       "      <th>Policy_Sales_Channel</th>\n",
       "      <th>Vintage</th>\n",
       "      <th>Response</th>\n",
       "    </tr>\n",
       "  </thead>\n",
       "  <tbody>\n",
       "    <tr>\n",
       "      <th>236092</th>\n",
       "      <td>236093</td>\n",
       "      <td>Male</td>\n",
       "      <td>21</td>\n",
       "      <td>1</td>\n",
       "      <td>8.0</td>\n",
       "      <td>0</td>\n",
       "      <td>&lt; 1 Year</td>\n",
       "      <td>Yes</td>\n",
       "      <td>36335.0</td>\n",
       "      <td>160.0</td>\n",
       "      <td>25</td>\n",
       "      <td>0</td>\n",
       "    </tr>\n",
       "    <tr>\n",
       "      <th>306058</th>\n",
       "      <td>306059</td>\n",
       "      <td>Male</td>\n",
       "      <td>26</td>\n",
       "      <td>1</td>\n",
       "      <td>48.0</td>\n",
       "      <td>0</td>\n",
       "      <td>&lt; 1 Year</td>\n",
       "      <td>Yes</td>\n",
       "      <td>2630.0</td>\n",
       "      <td>152.0</td>\n",
       "      <td>268</td>\n",
       "      <td>0</td>\n",
       "    </tr>\n",
       "    <tr>\n",
       "      <th>211235</th>\n",
       "      <td>211236</td>\n",
       "      <td>Female</td>\n",
       "      <td>25</td>\n",
       "      <td>1</td>\n",
       "      <td>2.0</td>\n",
       "      <td>1</td>\n",
       "      <td>&lt; 1 Year</td>\n",
       "      <td>No</td>\n",
       "      <td>33918.0</td>\n",
       "      <td>152.0</td>\n",
       "      <td>235</td>\n",
       "      <td>0</td>\n",
       "    </tr>\n",
       "    <tr>\n",
       "      <th>42826</th>\n",
       "      <td>42827</td>\n",
       "      <td>Female</td>\n",
       "      <td>40</td>\n",
       "      <td>1</td>\n",
       "      <td>31.0</td>\n",
       "      <td>1</td>\n",
       "      <td>1-2 Year</td>\n",
       "      <td>Yes</td>\n",
       "      <td>2630.0</td>\n",
       "      <td>26.0</td>\n",
       "      <td>280</td>\n",
       "      <td>0</td>\n",
       "    </tr>\n",
       "    <tr>\n",
       "      <th>144295</th>\n",
       "      <td>144296</td>\n",
       "      <td>Female</td>\n",
       "      <td>24</td>\n",
       "      <td>1</td>\n",
       "      <td>3.0</td>\n",
       "      <td>1</td>\n",
       "      <td>&lt; 1 Year</td>\n",
       "      <td>No</td>\n",
       "      <td>32847.0</td>\n",
       "      <td>152.0</td>\n",
       "      <td>23</td>\n",
       "      <td>0</td>\n",
       "    </tr>\n",
       "  </tbody>\n",
       "</table>\n",
       "</div>"
      ],
      "text/plain": [
       "            id  Gender  Age  Driving_License  Region_Code  Previously_Insured  \\\n",
       "236092  236093    Male   21                1          8.0                   0   \n",
       "306058  306059    Male   26                1         48.0                   0   \n",
       "211235  211236  Female   25                1          2.0                   1   \n",
       "42826    42827  Female   40                1         31.0                   1   \n",
       "144295  144296  Female   24                1          3.0                   1   \n",
       "\n",
       "       Vehicle_Age Vehicle_Damage  Annual_Premium  Policy_Sales_Channel  \\\n",
       "236092    < 1 Year            Yes         36335.0                 160.0   \n",
       "306058    < 1 Year            Yes          2630.0                 152.0   \n",
       "211235    < 1 Year             No         33918.0                 152.0   \n",
       "42826     1-2 Year            Yes          2630.0                  26.0   \n",
       "144295    < 1 Year             No         32847.0                 152.0   \n",
       "\n",
       "        Vintage  Response  \n",
       "236092       25         0  \n",
       "306058      268         0  \n",
       "211235      235         0  \n",
       "42826       280         0  \n",
       "144295       23         0  "
      ]
     },
     "execution_count": 2,
     "metadata": {},
     "output_type": "execute_result"
    }
   ],
   "source": [
    "df=pd.read_csv('data_train_health.csv')\n",
    "df.sample(5)"
   ]
  },
  {
   "cell_type": "markdown",
   "metadata": {},
   "source": [
    "### Missing Value"
   ]
  },
  {
   "cell_type": "code",
   "execution_count": 3,
   "metadata": {},
   "outputs": [
    {
     "name": "stdout",
     "output_type": "stream",
     "text": [
      "<class 'pandas.core.frame.DataFrame'>\n",
      "RangeIndex: 381109 entries, 0 to 381108\n",
      "Data columns (total 12 columns):\n",
      " #   Column                Non-Null Count   Dtype  \n",
      "---  ------                --------------   -----  \n",
      " 0   id                    381109 non-null  int64  \n",
      " 1   Gender                381109 non-null  object \n",
      " 2   Age                   381109 non-null  int64  \n",
      " 3   Driving_License       381109 non-null  int64  \n",
      " 4   Region_Code           381109 non-null  float64\n",
      " 5   Previously_Insured    381109 non-null  int64  \n",
      " 6   Vehicle_Age           381109 non-null  object \n",
      " 7   Vehicle_Damage        381109 non-null  object \n",
      " 8   Annual_Premium        381109 non-null  float64\n",
      " 9   Policy_Sales_Channel  381109 non-null  float64\n",
      " 10  Vintage               381109 non-null  int64  \n",
      " 11  Response              381109 non-null  int64  \n",
      "dtypes: float64(3), int64(6), object(3)\n",
      "memory usage: 34.9+ MB\n"
     ]
    }
   ],
   "source": [
    "df.info()"
   ]
  },
  {
   "cell_type": "markdown",
   "metadata": {},
   "source": [
    "### Duplicated Data"
   ]
  },
  {
   "cell_type": "code",
   "execution_count": 4,
   "metadata": {},
   "outputs": [
    {
     "data": {
      "text/plain": [
       "0"
      ]
     },
     "execution_count": 4,
     "metadata": {},
     "output_type": "execute_result"
    }
   ],
   "source": [
    "df.duplicated().sum()"
   ]
  },
  {
   "cell_type": "markdown",
   "metadata": {},
   "source": [
    "### Unique Values"
   ]
  },
  {
   "cell_type": "code",
   "execution_count": 5,
   "metadata": {},
   "outputs": [],
   "source": [
    "cat_types=['Gender','Vehicle_Age','Vehicle_Damage']\n",
    "num_types=['Age','Driving_License','Region_Code','Previously_Insured','Annual_Premium','Policy_Sales_Channel','Vintage']\n",
    "all_col=['Gender','Vehicle_Age','Vehicle_Damage','Age','Driving_License','Region_Code','Previously_Insured','Annual_Premium','Policy_Sales_Channel','Vintage']"
   ]
  },
  {
   "cell_type": "code",
   "execution_count": 6,
   "metadata": {},
   "outputs": [
    {
     "name": "stdout",
     "output_type": "stream",
     "text": [
      "Gender Unique Value = 2\n",
      "Vehicle_Age Unique Value = 3\n",
      "Vehicle_Damage Unique Value = 2\n",
      "Age Unique Value = 66\n",
      "Driving_License Unique Value = 2\n",
      "Region_Code Unique Value = 53\n",
      "Previously_Insured Unique Value = 2\n",
      "Annual_Premium Unique Value = 48838\n",
      "Policy_Sales_Channel Unique Value = 155\n",
      "Vintage Unique Value = 290\n"
     ]
    }
   ],
   "source": [
    "for i in all_col:\n",
    "    print('{} Unique Value = {}'.format(i,len(df[i].unique())))"
   ]
  },
  {
   "cell_type": "markdown",
   "metadata": {},
   "source": [
    "- **There is no missing and duplicated data**\n",
    "- **There is no column with only 1 unique value**\n",
    "- **Based on data types, Gender, vehicle age, and vehicle damage is included in categorical types (need to change it to numerical) while the other column are numerical**\n",
    "- **However, there are some numerical data that supposed to be included in categorical type**"
   ]
  },
  {
   "cell_type": "markdown",
   "metadata": {},
   "source": [
    "# Data Preparation"
   ]
  },
  {
   "cell_type": "markdown",
   "metadata": {},
   "source": [
    "## Categorical Data"
   ]
  },
  {
   "cell_type": "markdown",
   "metadata": {},
   "source": [
    "### Gender"
   ]
  },
  {
   "cell_type": "code",
   "execution_count": 7,
   "metadata": {},
   "outputs": [
    {
     "data": {
      "image/png": "[encoded data removed]",
      "text/plain": [
       "<Figure size 720x432 with 1 Axes>"
      ]
     },
     "metadata": {
      "needs_background": "light"
     },
     "output_type": "display_data"
    }
   ],
   "source": [
    "response=df['Response']\n",
    "gender=df['Gender']\n",
    "fig,ax=plt.subplots(figsize=(10,6))\n",
    "sns.countplot(x=gender,hue=response);"
   ]
  },
  {
   "cell_type": "code",
   "execution_count": 8,
   "metadata": {},
   "outputs": [
    {
     "data": {
      "text/plain": [
       "Male      206089\n",
       "Female    175020\n",
       "Name: Gender, dtype: int64"
      ]
     },
     "execution_count": 8,
     "metadata": {},
     "output_type": "execute_result"
    }
   ],
   "source": [
    "gender.value_counts()"
   ]
  },
  {
   "cell_type": "markdown",
   "metadata": {},
   "source": [
    "One Hot Encoding"
   ]
  },
  {
   "cell_type": "code",
   "execution_count": 9,
   "metadata": {},
   "outputs": [
    {
     "data": {
      "text/html": [
       "<div>\n",
       "<style scoped>\n",
       "    .dataframe tbody tr th:only-of-type {\n",
       "        vertical-align: middle;\n",
       "    }\n",
       "\n",
       "    .dataframe tbody tr th {\n",
       "        vertical-align: top;\n",
       "    }\n",
       "\n",
       "    .dataframe thead th {\n",
       "        text-align: right;\n",
       "    }\n",
       "</style>\n",
       "<table border=\"1\" class=\"dataframe\">\n",
       "  <thead>\n",
       "    <tr style=\"text-align: right;\">\n",
       "      <th></th>\n",
       "      <th>Gender_Female</th>\n",
       "      <th>Gender_Male</th>\n",
       "    </tr>\n",
       "  </thead>\n",
       "  <tbody>\n",
       "    <tr>\n",
       "      <th>0</th>\n",
       "      <td>0</td>\n",
       "      <td>1</td>\n",
       "    </tr>\n",
       "    <tr>\n",
       "      <th>1</th>\n",
       "      <td>0</td>\n",
       "      <td>1</td>\n",
       "    </tr>\n",
       "    <tr>\n",
       "      <th>2</th>\n",
       "      <td>0</td>\n",
       "      <td>1</td>\n",
       "    </tr>\n",
       "    <tr>\n",
       "      <th>3</th>\n",
       "      <td>0</td>\n",
       "      <td>1</td>\n",
       "    </tr>\n",
       "    <tr>\n",
       "      <th>4</th>\n",
       "      <td>1</td>\n",
       "      <td>0</td>\n",
       "    </tr>\n",
       "    <tr>\n",
       "      <th>...</th>\n",
       "      <td>...</td>\n",
       "      <td>...</td>\n",
       "    </tr>\n",
       "    <tr>\n",
       "      <th>381104</th>\n",
       "      <td>0</td>\n",
       "      <td>1</td>\n",
       "    </tr>\n",
       "    <tr>\n",
       "      <th>381105</th>\n",
       "      <td>0</td>\n",
       "      <td>1</td>\n",
       "    </tr>\n",
       "    <tr>\n",
       "      <th>381106</th>\n",
       "      <td>0</td>\n",
       "      <td>1</td>\n",
       "    </tr>\n",
       "    <tr>\n",
       "      <th>381107</th>\n",
       "      <td>1</td>\n",
       "      <td>0</td>\n",
       "    </tr>\n",
       "    <tr>\n",
       "      <th>381108</th>\n",
       "      <td>0</td>\n",
       "      <td>1</td>\n",
       "    </tr>\n",
       "  </tbody>\n",
       "</table>\n",
       "<p>381109 rows × 2 columns</p>\n",
       "</div>"
      ],
      "text/plain": [
       "        Gender_Female  Gender_Male\n",
       "0                   0            1\n",
       "1                   0            1\n",
       "2                   0            1\n",
       "3                   0            1\n",
       "4                   1            0\n",
       "...               ...          ...\n",
       "381104              0            1\n",
       "381105              0            1\n",
       "381106              0            1\n",
       "381107              1            0\n",
       "381108              0            1\n",
       "\n",
       "[381109 rows x 2 columns]"
      ]
     },
     "execution_count": 9,
     "metadata": {},
     "output_type": "execute_result"
    }
   ],
   "source": [
    "gender_label = pd.get_dummies(df['Gender'],prefix='Gender')\n",
    "gender_label"
   ]
  },
  {
   "cell_type": "markdown",
   "metadata": {},
   "source": [
    "- **The difference between male and female number are not too big**\n",
    "- **Change Gender data to label**"
   ]
  },
  {
   "cell_type": "markdown",
   "metadata": {},
   "source": [
    "### Vehicle Age"
   ]
  },
  {
   "cell_type": "code",
   "execution_count": 10,
   "metadata": {},
   "outputs": [
    {
     "data": {
      "image/png": "[encoded data removed]",
      "text/plain": [
       "<Figure size 720x432 with 1 Axes>"
      ]
     },
     "metadata": {
      "needs_background": "light"
     },
     "output_type": "display_data"
    }
   ],
   "source": [
    "response=df['Response']\n",
    "vehicle_age=df['Vehicle_Age']\n",
    "fig,ax=plt.subplots(figsize=(10,6))\n",
    "sns.countplot(x=vehicle_age,hue=response);"
   ]
  },
  {
   "cell_type": "code",
   "execution_count": 11,
   "metadata": {},
   "outputs": [],
   "source": [
    "Vehicle_Age_Label=[]\n",
    "\n",
    "for index,column in df.iterrows():\n",
    "    if column['Vehicle_Age'] == '> 2 Years':\n",
    "        y = 2\n",
    "    elif column['Vehicle_Age'] == '< 1 Year':\n",
    "        y = 0\n",
    "    else:\n",
    "        y = 1\n",
    "    Vehicle_Age_Label.append(y)"
   ]
  },
  {
   "cell_type": "code",
   "execution_count": 12,
   "metadata": {},
   "outputs": [
    {
     "data": {
      "text/plain": [
       "381109"
      ]
     },
     "execution_count": 12,
     "metadata": {},
     "output_type": "execute_result"
    }
   ],
   "source": [
    "len(Vehicle_Age_Label)"
   ]
  },
  {
   "cell_type": "markdown",
   "metadata": {},
   "source": [
    "- **There is a big difference between > 2 Years vehicle age and the others**\n",
    "- **Change Vehicle Age data to label**"
   ]
  },
  {
   "cell_type": "markdown",
   "metadata": {},
   "source": [
    "### Vehicle Damage"
   ]
  },
  {
   "cell_type": "code",
   "execution_count": 13,
   "metadata": {},
   "outputs": [
    {
     "data": {
      "image/png": "[encoded data removed]",
      "text/plain": [
       "<Figure size 720x432 with 1 Axes>"
      ]
     },
     "metadata": {
      "needs_background": "light"
     },
     "output_type": "display_data"
    }
   ],
   "source": [
    "vehicle_damage = df['Vehicle_Damage']\n",
    "fig,ax=plt.subplots(figsize=(10,6))\n",
    "sns.countplot(x=vehicle_damage,hue=response);"
   ]
  },
  {
   "cell_type": "code",
   "execution_count": 14,
   "metadata": {},
   "outputs": [
    {
     "data": {
      "text/plain": [
       "Yes    192413\n",
       "No     188696\n",
       "Name: Vehicle_Damage, dtype: int64"
      ]
     },
     "execution_count": 14,
     "metadata": {},
     "output_type": "execute_result"
    }
   ],
   "source": [
    "vehicle_damage.value_counts()"
   ]
  },
  {
   "cell_type": "code",
   "execution_count": 15,
   "metadata": {},
   "outputs": [],
   "source": [
    "vehicle_damage_label=df['Vehicle_Damage'].astype('category').cat.codes"
   ]
  },
  {
   "cell_type": "markdown",
   "metadata": {},
   "source": [
    "- **The difference between yes and no number are not too big**\n",
    "- **However, most of the customer who are interested have a damaged vehicle**\n",
    "- **Change vehicle damage data to label**"
   ]
  },
  {
   "cell_type": "code",
   "execution_count": 16,
   "metadata": {},
   "outputs": [],
   "source": [
    "df1=df.join(gender_label)\n",
    "df1['Vehicle_Age_Label'] = Vehicle_Age_Label\n",
    "df1['Vehicle_Damage_Label'] = vehicle_damage_label"
   ]
  },
  {
   "cell_type": "code",
   "execution_count": 17,
   "metadata": {},
   "outputs": [
    {
     "data": {
      "text/html": [
       "<div>\n",
       "<style scoped>\n",
       "    .dataframe tbody tr th:only-of-type {\n",
       "        vertical-align: middle;\n",
       "    }\n",
       "\n",
       "    .dataframe tbody tr th {\n",
       "        vertical-align: top;\n",
       "    }\n",
       "\n",
       "    .dataframe thead th {\n",
       "        text-align: right;\n",
       "    }\n",
       "</style>\n",
       "<table border=\"1\" class=\"dataframe\">\n",
       "  <thead>\n",
       "    <tr style=\"text-align: right;\">\n",
       "      <th></th>\n",
       "      <th>id</th>\n",
       "      <th>Gender</th>\n",
       "      <th>Age</th>\n",
       "      <th>Driving_License</th>\n",
       "      <th>Region_Code</th>\n",
       "      <th>Previously_Insured</th>\n",
       "      <th>Vehicle_Age</th>\n",
       "      <th>Vehicle_Damage</th>\n",
       "      <th>Annual_Premium</th>\n",
       "      <th>Policy_Sales_Channel</th>\n",
       "      <th>Vintage</th>\n",
       "      <th>Response</th>\n",
       "      <th>Gender_Female</th>\n",
       "      <th>Gender_Male</th>\n",
       "      <th>Vehicle_Age_Label</th>\n",
       "      <th>Vehicle_Damage_Label</th>\n",
       "    </tr>\n",
       "  </thead>\n",
       "  <tbody>\n",
       "    <tr>\n",
       "      <th>158861</th>\n",
       "      <td>158862</td>\n",
       "      <td>Male</td>\n",
       "      <td>21</td>\n",
       "      <td>1</td>\n",
       "      <td>46.0</td>\n",
       "      <td>1</td>\n",
       "      <td>&lt; 1 Year</td>\n",
       "      <td>No</td>\n",
       "      <td>35102.0</td>\n",
       "      <td>152.0</td>\n",
       "      <td>252</td>\n",
       "      <td>0</td>\n",
       "      <td>0</td>\n",
       "      <td>1</td>\n",
       "      <td>0</td>\n",
       "      <td>0</td>\n",
       "    </tr>\n",
       "    <tr>\n",
       "      <th>296660</th>\n",
       "      <td>296661</td>\n",
       "      <td>Male</td>\n",
       "      <td>32</td>\n",
       "      <td>1</td>\n",
       "      <td>28.0</td>\n",
       "      <td>0</td>\n",
       "      <td>1-2 Year</td>\n",
       "      <td>No</td>\n",
       "      <td>57875.0</td>\n",
       "      <td>124.0</td>\n",
       "      <td>215</td>\n",
       "      <td>0</td>\n",
       "      <td>0</td>\n",
       "      <td>1</td>\n",
       "      <td>1</td>\n",
       "      <td>0</td>\n",
       "    </tr>\n",
       "    <tr>\n",
       "      <th>169551</th>\n",
       "      <td>169552</td>\n",
       "      <td>Female</td>\n",
       "      <td>41</td>\n",
       "      <td>1</td>\n",
       "      <td>46.0</td>\n",
       "      <td>1</td>\n",
       "      <td>1-2 Year</td>\n",
       "      <td>No</td>\n",
       "      <td>2630.0</td>\n",
       "      <td>152.0</td>\n",
       "      <td>182</td>\n",
       "      <td>0</td>\n",
       "      <td>1</td>\n",
       "      <td>0</td>\n",
       "      <td>1</td>\n",
       "      <td>0</td>\n",
       "    </tr>\n",
       "    <tr>\n",
       "      <th>332096</th>\n",
       "      <td>332097</td>\n",
       "      <td>Male</td>\n",
       "      <td>24</td>\n",
       "      <td>1</td>\n",
       "      <td>10.0</td>\n",
       "      <td>1</td>\n",
       "      <td>&lt; 1 Year</td>\n",
       "      <td>No</td>\n",
       "      <td>23063.0</td>\n",
       "      <td>152.0</td>\n",
       "      <td>231</td>\n",
       "      <td>0</td>\n",
       "      <td>0</td>\n",
       "      <td>1</td>\n",
       "      <td>0</td>\n",
       "      <td>0</td>\n",
       "    </tr>\n",
       "    <tr>\n",
       "      <th>189329</th>\n",
       "      <td>189330</td>\n",
       "      <td>Male</td>\n",
       "      <td>23</td>\n",
       "      <td>1</td>\n",
       "      <td>45.0</td>\n",
       "      <td>1</td>\n",
       "      <td>&lt; 1 Year</td>\n",
       "      <td>No</td>\n",
       "      <td>38846.0</td>\n",
       "      <td>152.0</td>\n",
       "      <td>284</td>\n",
       "      <td>0</td>\n",
       "      <td>0</td>\n",
       "      <td>1</td>\n",
       "      <td>0</td>\n",
       "      <td>0</td>\n",
       "    </tr>\n",
       "  </tbody>\n",
       "</table>\n",
       "</div>"
      ],
      "text/plain": [
       "            id  Gender  Age  Driving_License  Region_Code  Previously_Insured  \\\n",
       "158861  158862    Male   21                1         46.0                   1   \n",
       "296660  296661    Male   32                1         28.0                   0   \n",
       "169551  169552  Female   41                1         46.0                   1   \n",
       "332096  332097    Male   24                1         10.0                   1   \n",
       "189329  189330    Male   23                1         45.0                   1   \n",
       "\n",
       "       Vehicle_Age Vehicle_Damage  Annual_Premium  Policy_Sales_Channel  \\\n",
       "158861    < 1 Year             No         35102.0                 152.0   \n",
       "296660    1-2 Year             No         57875.0                 124.0   \n",
       "169551    1-2 Year             No          2630.0                 152.0   \n",
       "332096    < 1 Year             No         23063.0                 152.0   \n",
       "189329    < 1 Year             No         38846.0                 152.0   \n",
       "\n",
       "        Vintage  Response  Gender_Female  Gender_Male  Vehicle_Age_Label  \\\n",
       "158861      252         0              0            1                  0   \n",
       "296660      215         0              0            1                  1   \n",
       "169551      182         0              1            0                  1   \n",
       "332096      231         0              0            1                  0   \n",
       "189329      284         0              0            1                  0   \n",
       "\n",
       "        Vehicle_Damage_Label  \n",
       "158861                     0  \n",
       "296660                     0  \n",
       "169551                     0  \n",
       "332096                     0  \n",
       "189329                     0  "
      ]
     },
     "execution_count": 17,
     "metadata": {},
     "output_type": "execute_result"
    }
   ],
   "source": [
    "df1.sample(5)"
   ]
  },
  {
   "cell_type": "markdown",
   "metadata": {},
   "source": [
    "## Numerical Data"
   ]
  },
  {
   "cell_type": "markdown",
   "metadata": {},
   "source": [
    "### Age"
   ]
  },
  {
   "cell_type": "code",
   "execution_count": 18,
   "metadata": {},
   "outputs": [
    {
     "data": {
      "text/plain": [
       "count    381109.000000\n",
       "mean        154.347397\n",
       "std          83.671304\n",
       "min          10.000000\n",
       "25%          82.000000\n",
       "50%         154.000000\n",
       "75%         227.000000\n",
       "max         299.000000\n",
       "Name: Vintage, dtype: float64"
      ]
     },
     "execution_count": 18,
     "metadata": {},
     "output_type": "execute_result"
    }
   ],
   "source": [
    "df['Vintage'].describe()"
   ]
  },
  {
   "cell_type": "code",
   "execution_count": 19,
   "metadata": {},
   "outputs": [
    {
     "data": {
      "image/png": "[encoded data removed]",
      "text/plain": [
       "<Figure size 720x720 with 6 Axes>"
      ]
     },
     "metadata": {
      "needs_background": "light"
     },
     "output_type": "display_data"
    }
   ],
   "source": [
    "yes = df[response==1]\n",
    "no = df[response==0]\n",
    "fig,ax=plt.subplots(3,2,figsize=(10,10))\n",
    "sns.kdeplot(x=df['Age'],color='forestgreen',shade=True,ax=ax[0,0])\n",
    "#sns.histplot(x=df['Age'],color='green',ax=ax[0])\n",
    "sns.kdeplot(x=yes['Age'],color='cornflowerblue',label='Yes',shade=True,ax=ax[1,0])\n",
    "sns.kdeplot(x=no['Age'],color='orangered',label='No',shade=True,ax=ax[1,0])\n",
    "sns.histplot(x=df['Age'],color='forestgreen',ax=ax[0,1],bins=5)\n",
    "sns.histplot(x=yes['Age'],color='cornflowerblue',ax=ax[1,1],bins=5)\n",
    "sns.histplot(x=no['Age'],color='orangered',ax=ax[2,1],bins=5)\n",
    "plt.tight_layout();\n",
    "#sns.kdeplot(x=no['Age'],color='red',label='No',ax=ax[1])"
   ]
  },
  {
   "cell_type": "code",
   "execution_count": 20,
   "metadata": {},
   "outputs": [
    {
     "data": {
      "image/png": "[encoded data removed]",
      "text/plain": [
       "<Figure size 288x288 with 3 Axes>"
      ]
     },
     "metadata": {
      "needs_background": "light"
     },
     "output_type": "display_data"
    }
   ],
   "source": [
    "fig,ax=plt.subplots(1,3,figsize=(4,4))\n",
    "sns.boxplot(y=yes['Age'],ax=ax[0],color='cornflowerblue')\n",
    "sns.boxplot(y=no['Age'],ax=ax[1],color='cornflowerblue')\n",
    "sns.boxplot(y=df['Age'],ax=ax[2],color='cornflowerblue')\n",
    "plt.tight_layout()"
   ]
  },
  {
   "cell_type": "code",
   "execution_count": 21,
   "metadata": {},
   "outputs": [
    {
     "name": "stdout",
     "output_type": "stream",
     "text": [
      "186812\n",
      "151058\n",
      "43239\n"
     ]
    }
   ],
   "source": [
    "print(len(df[df['Age'] <=35]))\n",
    "print(len(df[(df['Age']>35) & (df['Age']<=60)]))\n",
    "print(len(df[(df['Age']>60) & (df['Age']<=85)]))"
   ]
  },
  {
   "cell_type": "code",
   "execution_count": 22,
   "metadata": {},
   "outputs": [],
   "source": [
    "age_label=[]\n",
    "for index,column in df1.iterrows():\n",
    "    if column['Age'] <=35:\n",
    "        w=0\n",
    "    elif (column['Age'] > 35) & (column['Age'] <= 60):\n",
    "        w=2\n",
    "    else:\n",
    "        w=1\n",
    "    age_label.append(w)"
   ]
  },
  {
   "cell_type": "code",
   "execution_count": 23,
   "metadata": {},
   "outputs": [],
   "source": [
    "df1['Age_Label']=age_label"
   ]
  },
  {
   "cell_type": "markdown",
   "metadata": {},
   "source": [
    "- **The data is skewed**\n",
    "- **classify the age into several age range would be better for machine learning model**"
   ]
  },
  {
   "cell_type": "markdown",
   "metadata": {},
   "source": [
    "### Driving License"
   ]
  },
  {
   "cell_type": "code",
   "execution_count": 24,
   "metadata": {},
   "outputs": [
    {
     "data": {
      "image/png": "[encoded data removed]",
      "text/plain": [
       "<Figure size 432x288 with 1 Axes>"
      ]
     },
     "metadata": {
      "needs_background": "light"
     },
     "output_type": "display_data"
    }
   ],
   "source": [
    "driving_license=df['Driving_License']\n",
    "sns.countplot(x=driving_license,hue=response);"
   ]
  },
  {
   "cell_type": "code",
   "execution_count": 25,
   "metadata": {},
   "outputs": [
    {
     "name": "stdout",
     "output_type": "stream",
     "text": [
      "Overall\n",
      "1    380297\n",
      "0       812\n",
      "Name: Driving_License, dtype: int64\n",
      "\n",
      "Yes\n",
      "1    46669\n",
      "0       41\n",
      "Name: Driving_License, dtype: int64\n",
      "\n",
      "No\n"
     ]
    },
    {
     "data": {
      "text/plain": [
       "1    333628\n",
       "0       771\n",
       "Name: Driving_License, dtype: int64"
      ]
     },
     "execution_count": 25,
     "metadata": {},
     "output_type": "execute_result"
    }
   ],
   "source": [
    "print('Overall')\n",
    "print(driving_license.value_counts())\n",
    "print()\n",
    "print('Yes')\n",
    "print(yes['Driving_License'].value_counts())\n",
    "print()\n",
    "print('No')\n",
    "no['Driving_License'].value_counts()"
   ]
  },
  {
   "cell_type": "markdown",
   "metadata": {},
   "source": [
    "- **Most of the customer have a driving license, this column probably unimportant**\n",
    "- **Need to reconsider this feature after check the evaluation metric of machine learning**"
   ]
  },
  {
   "cell_type": "markdown",
   "metadata": {},
   "source": [
    "### Region_Code"
   ]
  },
  {
   "cell_type": "code",
   "execution_count": 26,
   "metadata": {},
   "outputs": [
    {
     "data": {
      "image/png": "[encoded data removed]",
      "text/plain": [
       "<Figure size 1440x288 with 1 Axes>"
      ]
     },
     "metadata": {
      "needs_background": "light"
     },
     "output_type": "display_data"
    }
   ],
   "source": [
    "region_code=df['Region_Code']\n",
    "fig,ax=plt.subplots(figsize=(20,4))\n",
    "sns.countplot(x=region_code.astype(int),color='forestgreen')\n",
    "plt.tight_layout();\n",
    "#sns.distplot(yes['Region_Code'],ax=ax[1])\n",
    "#sns.distplot(no['Region_Code'],ax=ax[1])"
   ]
  },
  {
   "cell_type": "markdown",
   "metadata": {},
   "source": [
    "- **The customer distribution is concentrated only in few region**\n",
    "- **Classify into small group probably necessary**"
   ]
  },
  {
   "cell_type": "markdown",
   "metadata": {},
   "source": [
    "### Previously Insured"
   ]
  },
  {
   "cell_type": "code",
   "execution_count": 27,
   "metadata": {},
   "outputs": [
    {
     "data": {
      "text/plain": [
       "<AxesSubplot:xlabel='Previously_Insured', ylabel='count'>"
      ]
     },
     "execution_count": 27,
     "metadata": {},
     "output_type": "execute_result"
    },
    {
     "data": {
      "image/png": "[encoded data removed]",
      "text/plain": [
       "<Figure size 432x288 with 1 Axes>"
      ]
     },
     "metadata": {
      "needs_background": "light"
     },
     "output_type": "display_data"
    }
   ],
   "source": [
    "previously_insured=df['Previously_Insured']\n",
    "sns.countplot(x=previously_insured,hue=response)"
   ]
  },
  {
   "cell_type": "markdown",
   "metadata": {},
   "source": [
    "- **Most of the customer who are interested in using car insurance don't have it yet**"
   ]
  },
  {
   "cell_type": "markdown",
   "metadata": {},
   "source": [
    "### Annual Premium"
   ]
  },
  {
   "cell_type": "code",
   "execution_count": 28,
   "metadata": {},
   "outputs": [
    {
     "data": {
      "image/png": "[encoded data removed]",
      "text/plain": [
       "<Figure size 1440x288 with 2 Axes>"
      ]
     },
     "metadata": {
      "needs_background": "light"
     },
     "output_type": "display_data"
    }
   ],
   "source": [
    "annual_premium=df['Annual_Premium']\n",
    "fig,ax=plt.subplots(1,2,figsize=(20,4))\n",
    "sns.kdeplot(x=annual_premium,ax=ax[0],color='cornflowerblue',shade=True)\n",
    "sns.boxplot(x=annual_premium,ax=ax[1],color='cornflowerblue');"
   ]
  },
  {
   "cell_type": "code",
   "execution_count": 29,
   "metadata": {},
   "outputs": [],
   "source": [
    "nums=['Annual_Premium']"
   ]
  },
  {
   "cell_type": "code",
   "execution_count": 30,
   "metadata": {},
   "outputs": [
    {
     "name": "stdout",
     "output_type": "stream",
     "text": [
      "Jumlah baris sebelum memfilter outlier: 381109\n",
      "Jumlah baris setelah memfilter outlier: 370789\n"
     ]
    }
   ],
   "source": [
    "print(f'Jumlah baris sebelum memfilter outlier: {len(df1)}')\n",
    "\n",
    "filtered_entries = np.array([True] * len(df1))\n",
    "for col in nums:\n",
    "    Q1 = df1[col].quantile(0.25)\n",
    "    Q3 = df1[col].quantile(0.75)\n",
    "    IQR = Q3 - Q1\n",
    "    low_limit = Q1 - (IQR * 1.5)\n",
    "    high_limit = Q3 + (IQR * 1.5)\n",
    "\n",
    "    filtered_entries = ((df1[col] >= low_limit) & (df1[col] <= high_limit)) & filtered_entries\n",
    "    \n",
    "df2 = df1[filtered_entries]\n",
    "\n",
    "print(f'Jumlah baris setelah memfilter outlier: {len(df2)}')"
   ]
  },
  {
   "cell_type": "code",
   "execution_count": 31,
   "metadata": {},
   "outputs": [
    {
     "data": {
      "image/png": "[encoded data removed]",
      "text/plain": [
       "<Figure size 2160x720 with 4 Axes>"
      ]
     },
     "metadata": {
      "needs_background": "light"
     },
     "output_type": "display_data"
    }
   ],
   "source": [
    "annual_premium2=df2['Annual_Premium']\n",
    "yes2=df2[df2['Response']==1]\n",
    "no2=df2[df2['Response']==0]\n",
    "fig,ax=plt.subplots(2,2,figsize=(30,10))\n",
    "sns.kdeplot(annual_premium2,ax=ax[0,0],color='cornflowerblue',shade=True)\n",
    "sns.boxplot(x=annual_premium2,ax=ax[0,0],color='cornflowerblue')\n",
    "sns.kdeplot(yes2['Annual_Premium'],ax=ax[0,1],color='cornflowerblue',label='yes',shade=True)\n",
    "sns.kdeplot(no2['Annual_Premium'],ax=ax[0,1],color='orangered',label='no',shade=True)\n",
    "sns.histplot(yes2['Annual_Premium'],ax=ax[1,1],bins=5,color='cornflowerblue')\n",
    "sns.histplot(no2['Annual_Premium'],ax=ax[1,1],bins=5,color='orangered')\n",
    "ax[1,1].set_xticks(range(0,62000,5000))\n",
    "ax[0,1].set_xticks(range(0,62000,5000))\n",
    "plt.tight_layout;"
   ]
  },
  {
   "cell_type": "code",
   "execution_count": 32,
   "metadata": {
    "jupyter": {
     "source_hidden": true
    }
   },
   "outputs": [
    {
     "data": {
      "text/plain": [
       "count    370789.000000\n",
       "mean      29264.643973\n",
       "std       14743.056656\n",
       "min        2630.000000\n",
       "25%       24102.000000\n",
       "50%       31319.000000\n",
       "75%       38596.000000\n",
       "max       61892.000000\n",
       "Name: Annual_Premium, dtype: float64"
      ]
     },
     "execution_count": 32,
     "metadata": {},
     "output_type": "execute_result"
    }
   ],
   "source": [
    "df2['Annual_Premium'].describe()"
   ]
  },
  {
   "cell_type": "code",
   "execution_count": 33,
   "metadata": {},
   "outputs": [
    {
     "name": "stdout",
     "output_type": "stream",
     "text": [
      "65267\n",
      "13000\n",
      "203871\n",
      "66767\n",
      "21884\n"
     ]
    }
   ],
   "source": [
    "print(len(df2[df2['Annual_Premium'] <=15000]))\n",
    "print(len(df2[(df2['Annual_Premium']>15000) & (df2['Annual_Premium']<=22000)]))\n",
    "print(len(df2[(df2['Annual_Premium']>22000) & (df2['Annual_Premium']<=39000)]))\n",
    "print(len(df2[(df2['Annual_Premium']>39000) & (df2['Annual_Premium']<=50000)]))\n",
    "print(len(df2[(df2['Annual_Premium']>50000) & (df2['Annual_Premium']<=62000)]))"
   ]
  },
  {
   "cell_type": "code",
   "execution_count": 34,
   "metadata": {
    "jupyter": {
     "source_hidden": true
    }
   },
   "outputs": [
    {
     "data": {
      "text/html": [
       "<div>\n",
       "<style scoped>\n",
       "    .dataframe tbody tr th:only-of-type {\n",
       "        vertical-align: middle;\n",
       "    }\n",
       "\n",
       "    .dataframe tbody tr th {\n",
       "        vertical-align: top;\n",
       "    }\n",
       "\n",
       "    .dataframe thead th {\n",
       "        text-align: right;\n",
       "    }\n",
       "</style>\n",
       "<table border=\"1\" class=\"dataframe\">\n",
       "  <thead>\n",
       "    <tr style=\"text-align: right;\">\n",
       "      <th></th>\n",
       "      <th>index</th>\n",
       "      <th>Annual_Premium</th>\n",
       "    </tr>\n",
       "  </thead>\n",
       "  <tbody>\n",
       "    <tr>\n",
       "      <th>0</th>\n",
       "      <td>0</td>\n",
       "      <td>40454</td>\n",
       "    </tr>\n",
       "    <tr>\n",
       "      <th>1</th>\n",
       "      <td>1</td>\n",
       "      <td>33536</td>\n",
       "    </tr>\n",
       "    <tr>\n",
       "      <th>2</th>\n",
       "      <td>2</td>\n",
       "      <td>38294</td>\n",
       "    </tr>\n",
       "    <tr>\n",
       "      <th>3</th>\n",
       "      <td>3</td>\n",
       "      <td>28619</td>\n",
       "    </tr>\n",
       "    <tr>\n",
       "      <th>4</th>\n",
       "      <td>4</td>\n",
       "      <td>27496</td>\n",
       "    </tr>\n",
       "  </tbody>\n",
       "</table>\n",
       "</div>"
      ],
      "text/plain": [
       "   index  Annual_Premium\n",
       "0      0           40454\n",
       "1      1           33536\n",
       "2      2           38294\n",
       "3      3           28619\n",
       "4      4           27496"
      ]
     },
     "execution_count": 34,
     "metadata": {},
     "output_type": "execute_result"
    }
   ],
   "source": [
    "c=df2['Annual_Premium'].astype('int').reset_index()\n",
    "c.head()"
   ]
  },
  {
   "cell_type": "code",
   "execution_count": 35,
   "metadata": {},
   "outputs": [],
   "source": [
    "annual_premium_label1=[]\n",
    "for index,column in c.iterrows():\n",
    "    if column['Annual_Premium'] <= 15000:\n",
    "        w=3\n",
    "    elif (column['Annual_Premium'] > 15000) & (column['Annual_Premium'] <= 22000):\n",
    "        w=2\n",
    "    elif (column['Annual_Premium'] > 22000) & (column['Annual_Premium'] <= 39000):\n",
    "        w=0\n",
    "    elif (column['Annual_Premium'] > 39000) & (column['Annual_Premium'] <= 50000):\n",
    "        w=1\n",
    "    else:\n",
    "        w=4\n",
    "    annual_premium_label1.append(w)"
   ]
  },
  {
   "cell_type": "code",
   "execution_count": 36,
   "metadata": {},
   "outputs": [],
   "source": [
    "df3=df2.copy()\n",
    "df3['Annual_Premium_Label']=annual_premium_label1"
   ]
  },
  {
   "cell_type": "code",
   "execution_count": 37,
   "metadata": {},
   "outputs": [
    {
     "data": {
      "text/html": [
       "<div>\n",
       "<style scoped>\n",
       "    .dataframe tbody tr th:only-of-type {\n",
       "        vertical-align: middle;\n",
       "    }\n",
       "\n",
       "    .dataframe tbody tr th {\n",
       "        vertical-align: top;\n",
       "    }\n",
       "\n",
       "    .dataframe thead th {\n",
       "        text-align: right;\n",
       "    }\n",
       "</style>\n",
       "<table border=\"1\" class=\"dataframe\">\n",
       "  <thead>\n",
       "    <tr style=\"text-align: right;\">\n",
       "      <th></th>\n",
       "      <th>Annual_Premium_0</th>\n",
       "      <th>Annual_Premium_1</th>\n",
       "      <th>Annual_Premium_2</th>\n",
       "      <th>Annual_Premium_3</th>\n",
       "      <th>Annual_Premium_4</th>\n",
       "    </tr>\n",
       "  </thead>\n",
       "  <tbody>\n",
       "    <tr>\n",
       "      <th>0</th>\n",
       "      <td>0</td>\n",
       "      <td>1</td>\n",
       "      <td>0</td>\n",
       "      <td>0</td>\n",
       "      <td>0</td>\n",
       "    </tr>\n",
       "    <tr>\n",
       "      <th>1</th>\n",
       "      <td>1</td>\n",
       "      <td>0</td>\n",
       "      <td>0</td>\n",
       "      <td>0</td>\n",
       "      <td>0</td>\n",
       "    </tr>\n",
       "    <tr>\n",
       "      <th>2</th>\n",
       "      <td>1</td>\n",
       "      <td>0</td>\n",
       "      <td>0</td>\n",
       "      <td>0</td>\n",
       "      <td>0</td>\n",
       "    </tr>\n",
       "    <tr>\n",
       "      <th>3</th>\n",
       "      <td>1</td>\n",
       "      <td>0</td>\n",
       "      <td>0</td>\n",
       "      <td>0</td>\n",
       "      <td>0</td>\n",
       "    </tr>\n",
       "    <tr>\n",
       "      <th>4</th>\n",
       "      <td>1</td>\n",
       "      <td>0</td>\n",
       "      <td>0</td>\n",
       "      <td>0</td>\n",
       "      <td>0</td>\n",
       "    </tr>\n",
       "    <tr>\n",
       "      <th>...</th>\n",
       "      <td>...</td>\n",
       "      <td>...</td>\n",
       "      <td>...</td>\n",
       "      <td>...</td>\n",
       "      <td>...</td>\n",
       "    </tr>\n",
       "    <tr>\n",
       "      <th>381104</th>\n",
       "      <td>1</td>\n",
       "      <td>0</td>\n",
       "      <td>0</td>\n",
       "      <td>0</td>\n",
       "      <td>0</td>\n",
       "    </tr>\n",
       "    <tr>\n",
       "      <th>381105</th>\n",
       "      <td>0</td>\n",
       "      <td>1</td>\n",
       "      <td>0</td>\n",
       "      <td>0</td>\n",
       "      <td>0</td>\n",
       "    </tr>\n",
       "    <tr>\n",
       "      <th>381106</th>\n",
       "      <td>1</td>\n",
       "      <td>0</td>\n",
       "      <td>0</td>\n",
       "      <td>0</td>\n",
       "      <td>0</td>\n",
       "    </tr>\n",
       "    <tr>\n",
       "      <th>381107</th>\n",
       "      <td>0</td>\n",
       "      <td>1</td>\n",
       "      <td>0</td>\n",
       "      <td>0</td>\n",
       "      <td>0</td>\n",
       "    </tr>\n",
       "    <tr>\n",
       "      <th>381108</th>\n",
       "      <td>0</td>\n",
       "      <td>1</td>\n",
       "      <td>0</td>\n",
       "      <td>0</td>\n",
       "      <td>0</td>\n",
       "    </tr>\n",
       "  </tbody>\n",
       "</table>\n",
       "<p>370789 rows × 5 columns</p>\n",
       "</div>"
      ],
      "text/plain": [
       "        Annual_Premium_0  Annual_Premium_1  Annual_Premium_2  \\\n",
       "0                      0                 1                 0   \n",
       "1                      1                 0                 0   \n",
       "2                      1                 0                 0   \n",
       "3                      1                 0                 0   \n",
       "4                      1                 0                 0   \n",
       "...                  ...               ...               ...   \n",
       "381104                 1                 0                 0   \n",
       "381105                 0                 1                 0   \n",
       "381106                 1                 0                 0   \n",
       "381107                 0                 1                 0   \n",
       "381108                 0                 1                 0   \n",
       "\n",
       "        Annual_Premium_3  Annual_Premium_4  \n",
       "0                      0                 0  \n",
       "1                      0                 0  \n",
       "2                      0                 0  \n",
       "3                      0                 0  \n",
       "4                      0                 0  \n",
       "...                  ...               ...  \n",
       "381104                 0                 0  \n",
       "381105                 0                 0  \n",
       "381106                 0                 0  \n",
       "381107                 0                 0  \n",
       "381108                 0                 0  \n",
       "\n",
       "[370789 rows x 5 columns]"
      ]
     },
     "execution_count": 37,
     "metadata": {},
     "output_type": "execute_result"
    }
   ],
   "source": [
    "annual_premium_label_onehot=pd.get_dummies(df3['Annual_Premium_Label'],prefix='Annual_Premium')\n",
    "annual_premium_label_onehot"
   ]
  },
  {
   "cell_type": "code",
   "execution_count": 38,
   "metadata": {},
   "outputs": [],
   "source": [
    "df3=df3.join(annual_premium_label_onehot)"
   ]
  },
  {
   "cell_type": "code",
   "execution_count": 39,
   "metadata": {},
   "outputs": [
    {
     "data": {
      "text/html": [
       "<div>\n",
       "<style scoped>\n",
       "    .dataframe tbody tr th:only-of-type {\n",
       "        vertical-align: middle;\n",
       "    }\n",
       "\n",
       "    .dataframe tbody tr th {\n",
       "        vertical-align: top;\n",
       "    }\n",
       "\n",
       "    .dataframe thead th {\n",
       "        text-align: right;\n",
       "    }\n",
       "</style>\n",
       "<table border=\"1\" class=\"dataframe\">\n",
       "  <thead>\n",
       "    <tr style=\"text-align: right;\">\n",
       "      <th></th>\n",
       "      <th>id</th>\n",
       "      <th>Gender</th>\n",
       "      <th>Age</th>\n",
       "      <th>Driving_License</th>\n",
       "      <th>Region_Code</th>\n",
       "      <th>Previously_Insured</th>\n",
       "      <th>Vehicle_Age</th>\n",
       "      <th>Vehicle_Damage</th>\n",
       "      <th>Annual_Premium</th>\n",
       "      <th>Policy_Sales_Channel</th>\n",
       "      <th>Vintage</th>\n",
       "      <th>Response</th>\n",
       "    </tr>\n",
       "  </thead>\n",
       "  <tbody>\n",
       "    <tr>\n",
       "      <th>0</th>\n",
       "      <td>1</td>\n",
       "      <td>Male</td>\n",
       "      <td>44</td>\n",
       "      <td>1</td>\n",
       "      <td>28.0</td>\n",
       "      <td>0</td>\n",
       "      <td>&gt; 2 Years</td>\n",
       "      <td>Yes</td>\n",
       "      <td>40454.0</td>\n",
       "      <td>26.0</td>\n",
       "      <td>217</td>\n",
       "      <td>1</td>\n",
       "    </tr>\n",
       "    <tr>\n",
       "      <th>1</th>\n",
       "      <td>2</td>\n",
       "      <td>Male</td>\n",
       "      <td>76</td>\n",
       "      <td>1</td>\n",
       "      <td>3.0</td>\n",
       "      <td>0</td>\n",
       "      <td>1-2 Year</td>\n",
       "      <td>No</td>\n",
       "      <td>33536.0</td>\n",
       "      <td>26.0</td>\n",
       "      <td>183</td>\n",
       "      <td>0</td>\n",
       "    </tr>\n",
       "    <tr>\n",
       "      <th>2</th>\n",
       "      <td>3</td>\n",
       "      <td>Male</td>\n",
       "      <td>47</td>\n",
       "      <td>1</td>\n",
       "      <td>28.0</td>\n",
       "      <td>0</td>\n",
       "      <td>&gt; 2 Years</td>\n",
       "      <td>Yes</td>\n",
       "      <td>38294.0</td>\n",
       "      <td>26.0</td>\n",
       "      <td>27</td>\n",
       "      <td>1</td>\n",
       "    </tr>\n",
       "    <tr>\n",
       "      <th>3</th>\n",
       "      <td>4</td>\n",
       "      <td>Male</td>\n",
       "      <td>21</td>\n",
       "      <td>1</td>\n",
       "      <td>11.0</td>\n",
       "      <td>1</td>\n",
       "      <td>&lt; 1 Year</td>\n",
       "      <td>No</td>\n",
       "      <td>28619.0</td>\n",
       "      <td>152.0</td>\n",
       "      <td>203</td>\n",
       "      <td>0</td>\n",
       "    </tr>\n",
       "    <tr>\n",
       "      <th>4</th>\n",
       "      <td>5</td>\n",
       "      <td>Female</td>\n",
       "      <td>29</td>\n",
       "      <td>1</td>\n",
       "      <td>41.0</td>\n",
       "      <td>1</td>\n",
       "      <td>&lt; 1 Year</td>\n",
       "      <td>No</td>\n",
       "      <td>27496.0</td>\n",
       "      <td>152.0</td>\n",
       "      <td>39</td>\n",
       "      <td>0</td>\n",
       "    </tr>\n",
       "    <tr>\n",
       "      <th>...</th>\n",
       "      <td>...</td>\n",
       "      <td>...</td>\n",
       "      <td>...</td>\n",
       "      <td>...</td>\n",
       "      <td>...</td>\n",
       "      <td>...</td>\n",
       "      <td>...</td>\n",
       "      <td>...</td>\n",
       "      <td>...</td>\n",
       "      <td>...</td>\n",
       "      <td>...</td>\n",
       "      <td>...</td>\n",
       "    </tr>\n",
       "    <tr>\n",
       "      <th>381104</th>\n",
       "      <td>381105</td>\n",
       "      <td>Male</td>\n",
       "      <td>74</td>\n",
       "      <td>1</td>\n",
       "      <td>26.0</td>\n",
       "      <td>1</td>\n",
       "      <td>1-2 Year</td>\n",
       "      <td>No</td>\n",
       "      <td>30170.0</td>\n",
       "      <td>26.0</td>\n",
       "      <td>88</td>\n",
       "      <td>0</td>\n",
       "    </tr>\n",
       "    <tr>\n",
       "      <th>381105</th>\n",
       "      <td>381106</td>\n",
       "      <td>Male</td>\n",
       "      <td>30</td>\n",
       "      <td>1</td>\n",
       "      <td>37.0</td>\n",
       "      <td>1</td>\n",
       "      <td>&lt; 1 Year</td>\n",
       "      <td>No</td>\n",
       "      <td>40016.0</td>\n",
       "      <td>152.0</td>\n",
       "      <td>131</td>\n",
       "      <td>0</td>\n",
       "    </tr>\n",
       "    <tr>\n",
       "      <th>381106</th>\n",
       "      <td>381107</td>\n",
       "      <td>Male</td>\n",
       "      <td>21</td>\n",
       "      <td>1</td>\n",
       "      <td>30.0</td>\n",
       "      <td>1</td>\n",
       "      <td>&lt; 1 Year</td>\n",
       "      <td>No</td>\n",
       "      <td>35118.0</td>\n",
       "      <td>160.0</td>\n",
       "      <td>161</td>\n",
       "      <td>0</td>\n",
       "    </tr>\n",
       "    <tr>\n",
       "      <th>381107</th>\n",
       "      <td>381108</td>\n",
       "      <td>Female</td>\n",
       "      <td>68</td>\n",
       "      <td>1</td>\n",
       "      <td>14.0</td>\n",
       "      <td>0</td>\n",
       "      <td>&gt; 2 Years</td>\n",
       "      <td>Yes</td>\n",
       "      <td>44617.0</td>\n",
       "      <td>124.0</td>\n",
       "      <td>74</td>\n",
       "      <td>0</td>\n",
       "    </tr>\n",
       "    <tr>\n",
       "      <th>381108</th>\n",
       "      <td>381109</td>\n",
       "      <td>Male</td>\n",
       "      <td>46</td>\n",
       "      <td>1</td>\n",
       "      <td>29.0</td>\n",
       "      <td>0</td>\n",
       "      <td>1-2 Year</td>\n",
       "      <td>No</td>\n",
       "      <td>41777.0</td>\n",
       "      <td>26.0</td>\n",
       "      <td>237</td>\n",
       "      <td>0</td>\n",
       "    </tr>\n",
       "  </tbody>\n",
       "</table>\n",
       "<p>381109 rows × 12 columns</p>\n",
       "</div>"
      ],
      "text/plain": [
       "            id  Gender  Age  Driving_License  Region_Code  Previously_Insured  \\\n",
       "0            1    Male   44                1         28.0                   0   \n",
       "1            2    Male   76                1          3.0                   0   \n",
       "2            3    Male   47                1         28.0                   0   \n",
       "3            4    Male   21                1         11.0                   1   \n",
       "4            5  Female   29                1         41.0                   1   \n",
       "...        ...     ...  ...              ...          ...                 ...   \n",
       "381104  381105    Male   74                1         26.0                   1   \n",
       "381105  381106    Male   30                1         37.0                   1   \n",
       "381106  381107    Male   21                1         30.0                   1   \n",
       "381107  381108  Female   68                1         14.0                   0   \n",
       "381108  381109    Male   46                1         29.0                   0   \n",
       "\n",
       "       Vehicle_Age Vehicle_Damage  Annual_Premium  Policy_Sales_Channel  \\\n",
       "0        > 2 Years            Yes         40454.0                  26.0   \n",
       "1         1-2 Year             No         33536.0                  26.0   \n",
       "2        > 2 Years            Yes         38294.0                  26.0   \n",
       "3         < 1 Year             No         28619.0                 152.0   \n",
       "4         < 1 Year             No         27496.0                 152.0   \n",
       "...            ...            ...             ...                   ...   \n",
       "381104    1-2 Year             No         30170.0                  26.0   \n",
       "381105    < 1 Year             No         40016.0                 152.0   \n",
       "381106    < 1 Year             No         35118.0                 160.0   \n",
       "381107   > 2 Years            Yes         44617.0                 124.0   \n",
       "381108    1-2 Year             No         41777.0                  26.0   \n",
       "\n",
       "        Vintage  Response  \n",
       "0           217         1  \n",
       "1           183         0  \n",
       "2            27         1  \n",
       "3           203         0  \n",
       "4            39         0  \n",
       "...         ...       ...  \n",
       "381104       88         0  \n",
       "381105      131         0  \n",
       "381106      161         0  \n",
       "381107       74         0  \n",
       "381108      237         0  \n",
       "\n",
       "[381109 rows x 12 columns]"
      ]
     },
     "execution_count": 39,
     "metadata": {},
     "output_type": "execute_result"
    }
   ],
   "source": [
    "df"
   ]
  },
  {
   "cell_type": "markdown",
   "metadata": {},
   "source": [
    "- **Annual Premium has many outlier, need to remove the outlier using IQR method**\n",
    "- **After remove the outlier, the distribution still skewed**\n",
    "- **Normalize the data will not give any impact to the machine learning model (already tried), classify the annual premium into several group would be better**\n",
    "- **One hots encoding to try it in Machine Learning model just in case the evaluation metric is not so good**"
   ]
  },
  {
   "cell_type": "markdown",
   "metadata": {},
   "source": [
    "### Policy Sales Channel"
   ]
  },
  {
   "cell_type": "code",
   "execution_count": 40,
   "metadata": {},
   "outputs": [
    {
     "data": {
      "text/plain": [
       "count    381109.000000\n",
       "mean        112.034295\n",
       "std          54.203995\n",
       "min           1.000000\n",
       "25%          29.000000\n",
       "50%         133.000000\n",
       "75%         152.000000\n",
       "max         163.000000\n",
       "Name: Policy_Sales_Channel, dtype: float64"
      ]
     },
     "execution_count": 40,
     "metadata": {},
     "output_type": "execute_result"
    }
   ],
   "source": [
    "df['Policy_Sales_Channel'].describe()"
   ]
  },
  {
   "cell_type": "code",
   "execution_count": 41,
   "metadata": {},
   "outputs": [
    {
     "data": {
      "text/plain": [
       "[<matplotlib.axis.XTick at 0x20504c55f10>,\n",
       " <matplotlib.axis.XTick at 0x20504c55eb0>,\n",
       " <matplotlib.axis.XTick at 0x20507a48e80>,\n",
       " <matplotlib.axis.XTick at 0x2050470e370>,\n",
       " <matplotlib.axis.XTick at 0x205079729a0>,\n",
       " <matplotlib.axis.XTick at 0x20507972490>,\n",
       " <matplotlib.axis.XTick at 0x20507972a00>,\n",
       " <matplotlib.axis.XTick at 0x2050794e280>,\n",
       " <matplotlib.axis.XTick at 0x20507972ee0>,\n",
       " <matplotlib.axis.XTick at 0x2050470e460>,\n",
       " <matplotlib.axis.XTick at 0x2050794edc0>,\n",
       " <matplotlib.axis.XTick at 0x20504c5f040>,\n",
       " <matplotlib.axis.XTick at 0x2050794e910>,\n",
       " <matplotlib.axis.XTick at 0x20507972ca0>,\n",
       " <matplotlib.axis.XTick at 0x205046fef10>,\n",
       " <matplotlib.axis.XTick at 0x20507824a90>,\n",
       " <matplotlib.axis.XTick at 0x20507824d90>]"
      ]
     },
     "execution_count": 41,
     "metadata": {},
     "output_type": "execute_result"
    },
    {
     "data": {
      "image/png": "[encoded data removed]",
      "text/plain": [
       "<Figure size 1440x504 with 4 Axes>"
      ]
     },
     "metadata": {
      "needs_background": "light"
     },
     "output_type": "display_data"
    }
   ],
   "source": [
    "policy_sales_channel=df3['Policy_Sales_Channel']\n",
    "fig,ax=plt.subplots(2,2,figsize=(20,7))\n",
    "sns.histplot(x=policy_sales_channel,ax=ax[0,0],bins=5,color='cornflowerblue')\n",
    "sns.histplot(x=no2['Policy_Sales_Channel'],ax=ax[0,1],color='cornflowerblue',bins=5)\n",
    "sns.kdeplot(x=policy_sales_channel,ax=ax[1,0],color='cornflowerblue',shade=True)\n",
    "sns.kdeplot(x=yes2['Policy_Sales_Channel'],ax=ax[1,1],color='cornflowerblue',shade=True)\n",
    "sns.kdeplot(x=no2['Policy_Sales_Channel'],ax=ax[1,1],color='orangered',shade=True)\n",
    "ax[1,1].set_xticks(range(0,170,10))\n",
    "#sns.kdeplot(x=no2['Policy_Sales_Channel'],ax=ax[1],color='red');"
   ]
  },
  {
   "cell_type": "code",
   "execution_count": 42,
   "metadata": {
    "jupyter": {
     "source_hidden": true
    }
   },
   "outputs": [
    {
     "data": {
      "text/plain": [
       "count    370789.000000\n",
       "mean        112.542923\n",
       "std          54.039616\n",
       "min           1.000000\n",
       "25%          30.000000\n",
       "50%         151.000000\n",
       "75%         152.000000\n",
       "max         163.000000\n",
       "Name: Policy_Sales_Channel, dtype: float64"
      ]
     },
     "execution_count": 42,
     "metadata": {},
     "output_type": "execute_result"
    }
   ],
   "source": [
    "df3['Policy_Sales_Channel'].describe()"
   ]
  },
  {
   "cell_type": "code",
   "execution_count": 43,
   "metadata": {},
   "outputs": [
    {
     "name": "stdout",
     "output_type": "stream",
     "text": [
      "94493\n",
      "84489\n",
      "187064\n"
     ]
    }
   ],
   "source": [
    "print(len(df3[df3['Policy_Sales_Channel'] <=40]))\n",
    "print(len(df3[(df3['Policy_Sales_Channel']>105) & (df3['Policy_Sales_Channel']<=135)]))\n",
    "print(len(df3[(df3['Policy_Sales_Channel']>135) & (df3['Policy_Sales_Channel']<=170)]))"
   ]
  },
  {
   "cell_type": "code",
   "execution_count": 44,
   "metadata": {
    "jupyter": {
     "source_hidden": true
    }
   },
   "outputs": [
    {
     "data": {
      "text/html": [
       "<div>\n",
       "<style scoped>\n",
       "    .dataframe tbody tr th:only-of-type {\n",
       "        vertical-align: middle;\n",
       "    }\n",
       "\n",
       "    .dataframe tbody tr th {\n",
       "        vertical-align: top;\n",
       "    }\n",
       "\n",
       "    .dataframe thead th {\n",
       "        text-align: right;\n",
       "    }\n",
       "</style>\n",
       "<table border=\"1\" class=\"dataframe\">\n",
       "  <thead>\n",
       "    <tr style=\"text-align: right;\">\n",
       "      <th></th>\n",
       "      <th>index</th>\n",
       "      <th>Policy_Sales_Channel</th>\n",
       "    </tr>\n",
       "  </thead>\n",
       "  <tbody>\n",
       "    <tr>\n",
       "      <th>0</th>\n",
       "      <td>0</td>\n",
       "      <td>26</td>\n",
       "    </tr>\n",
       "    <tr>\n",
       "      <th>1</th>\n",
       "      <td>1</td>\n",
       "      <td>26</td>\n",
       "    </tr>\n",
       "    <tr>\n",
       "      <th>2</th>\n",
       "      <td>2</td>\n",
       "      <td>26</td>\n",
       "    </tr>\n",
       "    <tr>\n",
       "      <th>3</th>\n",
       "      <td>3</td>\n",
       "      <td>152</td>\n",
       "    </tr>\n",
       "    <tr>\n",
       "      <th>4</th>\n",
       "      <td>4</td>\n",
       "      <td>152</td>\n",
       "    </tr>\n",
       "  </tbody>\n",
       "</table>\n",
       "</div>"
      ],
      "text/plain": [
       "   index  Policy_Sales_Channel\n",
       "0      0                    26\n",
       "1      1                    26\n",
       "2      2                    26\n",
       "3      3                   152\n",
       "4      4                   152"
      ]
     },
     "execution_count": 44,
     "metadata": {},
     "output_type": "execute_result"
    }
   ],
   "source": [
    "d=df3['Policy_Sales_Channel'].astype('int').reset_index()\n",
    "d.head()"
   ]
  },
  {
   "cell_type": "code",
   "execution_count": 45,
   "metadata": {},
   "outputs": [],
   "source": [
    "policy_sales_channel_label=[]\n",
    "for index,column in d.iterrows():\n",
    "    if column['Policy_Sales_Channel'] <= 40:\n",
    "        w=3\n",
    "    elif (column['Policy_Sales_Channel'] > 105) & (column['Policy_Sales_Channel'] <= 135):\n",
    "        w=2\n",
    "    elif (column['Policy_Sales_Channel'] > 135) & (column['Policy_Sales_Channel'] <= 170):\n",
    "        w=0\n",
    "    else:\n",
    "        w=1\n",
    "    policy_sales_channel_label.append(w)"
   ]
  },
  {
   "cell_type": "code",
   "execution_count": 46,
   "metadata": {},
   "outputs": [],
   "source": [
    "df3['policy_sales_channel_label']=policy_sales_channel_label"
   ]
  },
  {
   "cell_type": "markdown",
   "metadata": {},
   "source": [
    "- **Same with region code, policy sales channel is concentrated in several point**\n",
    "- **Classify the data into small group based on customer intention towards vehicle insurance**"
   ]
  },
  {
   "cell_type": "markdown",
   "metadata": {},
   "source": [
    "### Vintage"
   ]
  },
  {
   "cell_type": "code",
   "execution_count": 47,
   "metadata": {},
   "outputs": [
    {
     "data": {
      "image/png": "[encoded data removed]",
      "text/plain": [
       "<Figure size 1440x360 with 3 Axes>"
      ]
     },
     "metadata": {
      "needs_background": "light"
     },
     "output_type": "display_data"
    }
   ],
   "source": [
    "yes2=df3[df3['Response']==1]\n",
    "no2=df3[df3['Response']==0]\n",
    "vintage=df3['Vintage']\n",
    "fig,ax=plt.subplots(1,3,figsize=(20,5))\n",
    "sns.kdeplot(vintage,ax=ax[0],color='cornflowerblue',shade=True)\n",
    "sns.kdeplot(yes2['Vintage'],ax=ax[1],color='cornflowerblue',label='yes',shade=True)\n",
    "sns.kdeplot(no2['Vintage'],ax=ax[1],color='orangered',label='no',shade=True)\n",
    "sns.boxplot(x=vintage,ax=ax[2],color='cornflowerblue')\n",
    "plt.tight_layout();"
   ]
  },
  {
   "cell_type": "code",
   "execution_count": 48,
   "metadata": {},
   "outputs": [
    {
     "data": {
      "text/plain": [
       "256    1382\n",
       "73     1375\n",
       "282    1361\n",
       "126    1355\n",
       "158    1354\n",
       "       ... \n",
       "224    1204\n",
       "89     1201\n",
       "205    1198\n",
       "32     1194\n",
       "277    1179\n",
       "Name: Vintage, Length: 290, dtype: int64"
      ]
     },
     "execution_count": 48,
     "metadata": {},
     "output_type": "execute_result"
    }
   ],
   "source": [
    "vintage.value_counts()"
   ]
  },
  {
   "cell_type": "code",
   "execution_count": 49,
   "metadata": {},
   "outputs": [
    {
     "data": {
      "text/plain": [
       "count    370789.000000\n",
       "mean        154.345442\n",
       "std          83.670478\n",
       "min          10.000000\n",
       "25%          82.000000\n",
       "50%         154.000000\n",
       "75%         227.000000\n",
       "max         299.000000\n",
       "Name: Vintage, dtype: float64"
      ]
     },
     "execution_count": 49,
     "metadata": {},
     "output_type": "execute_result"
    }
   ],
   "source": [
    "df3['Vintage'].describe()"
   ]
  },
  {
   "cell_type": "code",
   "execution_count": 50,
   "metadata": {},
   "outputs": [],
   "source": [
    "vintage_by_month=[]\n",
    "for index,column in df3.iterrows():\n",
    "    y=round(column['Vintage']/30)\n",
    "    vintage_by_month.append(y)"
   ]
  },
  {
   "cell_type": "code",
   "execution_count": 51,
   "metadata": {},
   "outputs": [],
   "source": [
    "df3['vintage_by_month_round']=vintage_by_month"
   ]
  },
  {
   "cell_type": "markdown",
   "metadata": {},
   "source": [
    "- **Vintage data represent the number of days customer has been associated with the company**\n",
    "- **Transform the data into month (vintage data/30)**\n",
    "- **Overall, the data is range between 1-10 which is easier for machine learning model to train**"
   ]
  },
  {
   "cell_type": "markdown",
   "metadata": {},
   "source": [
    "# EDA & Business Insight"
   ]
  },
  {
   "cell_type": "markdown",
   "metadata": {},
   "source": [
    "**In this part, the business insight will given based on the health insurance customer data. Hopefully this business insight can help the sales agent to improve their performance related with the cross-selling strategy**"
   ]
  },
  {
   "cell_type": "markdown",
   "metadata": {},
   "source": [
    "## Potential Customer"
   ]
  },
  {
   "cell_type": "code",
   "execution_count": 52,
   "metadata": {},
   "outputs": [
    {
     "data": {
      "image/png": "[encoded data removed]",
      "text/plain": [
       "<Figure size 1440x432 with 3 Axes>"
      ]
     },
     "metadata": {
      "needs_background": "light"
     },
     "output_type": "display_data"
    }
   ],
   "source": [
    "fix,ax=plt.subplots(1,3,figsize=(20,6))\n",
    "sns.countplot(x=df3['Driving_License'],ax=ax[0],hue=response)\n",
    "ax[0].set_title('Driving License',fontsize=15)\n",
    "sns.countplot(x=df3['Previously_Insured'],ax=ax[1],hue=response)\n",
    "ax[1].set_title('Previously Insured',fontsize=15)\n",
    "sns.countplot(x=df3['Vehicle_Damage'],ax=ax[2],hue=response)\n",
    "ax[2].set_title('Vehicle Damage',fontsize=15)\n",
    "plt.tight_layout();"
   ]
  },
  {
   "cell_type": "markdown",
   "metadata": {},
   "source": [
    "## Priority Customer"
   ]
  },
  {
   "cell_type": "markdown",
   "metadata": {},
   "source": [
    "### Vehicle Age"
   ]
  },
  {
   "cell_type": "code",
   "execution_count": 53,
   "metadata": {},
   "outputs": [],
   "source": [
    "yes3=df3[df3['Response']==1]\n",
    "no3=df3[df3['Response']==0]"
   ]
  },
  {
   "cell_type": "code",
   "execution_count": 54,
   "metadata": {},
   "outputs": [
    {
     "name": "stdout",
     "output_type": "stream",
     "text": [
      "overall\n",
      "1-2 Year     200316\n",
      "< 1 Year     164786\n",
      "> 2 Years     16007\n",
      "Name: Vehicle_Age, dtype: int64\n",
      "\n",
      "Yes\n",
      "1-2 Year     33745\n",
      "< 1 Year      7060\n",
      "> 2 Years     4350\n",
      "Name: Vehicle_Age, dtype: int64\n",
      "\n",
      "No\n",
      "1-2 Year     160467\n",
      "< 1 Year     154487\n",
      "> 2 Years     10680\n",
      "Name: Vehicle_Age, dtype: int64\n"
     ]
    }
   ],
   "source": [
    "print('overall')\n",
    "print(vehicle_age.value_counts())\n",
    "print()\n",
    "print('Yes')\n",
    "print(yes3['Vehicle_Age'].value_counts())\n",
    "print()\n",
    "print('No')\n",
    "print(no3['Vehicle_Age'].value_counts())"
   ]
  },
  {
   "cell_type": "code",
   "execution_count": 55,
   "metadata": {},
   "outputs": [
    {
     "name": "stdout",
     "output_type": "stream",
     "text": [
      "0.2717561067033173\n",
      "0.1684588350406358\n",
      "0.04284344543832607\n"
     ]
    }
   ],
   "source": [
    "print(4350/(16007))\n",
    "print(33745/200316)\n",
    "print(7060/164786)"
   ]
  },
  {
   "cell_type": "code",
   "execution_count": 56,
   "metadata": {},
   "outputs": [],
   "source": [
    "text='''\n",
    "\n",
    "Around 30% of customer\n",
    "with > 2 Years vehicle\n",
    "age are interested to\n",
    "use vehicle insurance.\n",
    "\n",
    "'''"
   ]
  },
  {
   "cell_type": "code",
   "execution_count": 57,
   "metadata": {},
   "outputs": [
    {
     "data": {
      "image/png": "[encoded data removed]",
      "text/plain": [
       "<Figure size 720x576 with 2 Axes>"
      ]
     },
     "metadata": {
      "needs_background": "light"
     },
     "output_type": "display_data"
    }
   ],
   "source": [
    "fig,ax=plt.subplots(2,1,figsize=(10,8))\n",
    "sns.countplot(x=df3['Vehicle_Age'].sort_values(),ax=ax[0],hue=response)\n",
    "ax[0].legend(loc=0)\n",
    "ax[0].axvline(1.5,color='lightsteelblue',linestyle='--',linewidth=2)\n",
    "ax[0].axvline(2.5,color='lightsteelblue',linestyle='--',linewidth=2)\n",
    "ax[0].axvspan(1.5,2.5,color='lightsteelblue',alpha=0.5)\n",
    "ax[0].text(x=1.55,y=100000,s=text,fontweight='bold',horizontalalignment='left',fontsize=12)\n",
    "ax[0].set_ylim(0,200000)\n",
    "ax[0].text(1.7,13000,s='10680',fontweight='bold')\n",
    "ax[0].text(2.15,7000,s='4350',fontweight='bold')\n",
    "ax[0].annotate(xy=(2.2,14000),xytext=(1.9,120000),text='',\n",
    "              arrowprops=dict(ec='black',\n",
    "                             arrowstyle='simple'))\n",
    "ax[0].text(-0.55,255000,s='Approach the customer with vehicle age more than 2 years',fontsize=18,fontweight='bold')\n",
    "ax[0].text(-0.55,240000,s='to increase the number of vehicle insurance customer',fontsize=13)\n",
    "ax[0].text(-0.55,210000,s='Customer Response Rates by Vehicle Age',fontsize=15)\n",
    "\n",
    "sns.stripplot(x=df3['Vehicle_Age'].sort_values(),y=df3['Annual_Premium'],ax=ax[1],hue=response)\n",
    "ax[1].axvline(1.6,color='lightsteelblue',linestyle='--',linewidth=2)\n",
    "ax[1].axvline(2.5,color='lightsteelblue',linestyle='--',linewidth=2)\n",
    "ax[1].axvspan(1.6,2.5,color='lightsteelblue',alpha=0.5)\n",
    "plt.tight_layout();"
   ]
  },
  {
   "cell_type": "markdown",
   "metadata": {},
   "source": [
    "### Age"
   ]
  },
  {
   "cell_type": "code",
   "execution_count": 58,
   "metadata": {
    "jupyter": {
     "source_hidden": true
    }
   },
   "outputs": [],
   "source": [
    "text='''\n",
    "Customers over 30 tend to\n",
    "be more interested in using\n",
    "vehicle insurance\n",
    "'''\n",
    "text2='''\n",
    "Around\n",
    "30\n",
    "'''\n",
    "\n",
    "text3='''\n",
    "Around\n",
    "63\n",
    "'''"
   ]
  },
  {
   "cell_type": "code",
   "execution_count": 59,
   "metadata": {},
   "outputs": [
    {
     "data": {
      "image/png": "[encoded data removed]",
      "text/plain": [
       "<Figure size 792x432 with 1 Axes>"
      ]
     },
     "metadata": {
      "needs_background": "light"
     },
     "output_type": "display_data"
    }
   ],
   "source": [
    "fig,ax=plt.subplots(1,1,figsize=(11,6))\n",
    "sns.kdeplot(x=yes3['Age'],label='interested',color='cornflowerblue')\n",
    "sns.kdeplot(x=no3['Age'],label='not interested',color='orangered')\n",
    "plt.axvline(x=30,color='lightsteelblue',linestyle='--',linewidth=2)\n",
    "plt.axvline(x=62.8,color='lightsteelblue',linestyle='--',linewidth=2)\n",
    "plt.axvspan(30,62.8,color='lightsteelblue',alpha=0.3)\n",
    "plt.text(x=35,y=0.045,s=text,fontweight='bold',fontsize=12)\n",
    "plt.text(x=30.5,y=0.02,s=text2,fontweight='bold')\n",
    "plt.text(x=63,y=0.01,s=text3,fontweight='bold')\n",
    "#plt.annotate(xy=(30.5,0.02),xytext=(40,0.047),text='',\n",
    " #           arrowprops=dict(ec='black',\n",
    "  #                         arrowstyle='simple'))\n",
    "\n",
    "plt.text(12,0.079,s='Approach the customer with age more than 30',fontsize=18,fontweight='bold')\n",
    "plt.text(12,0.076,s='to increase the number of vehicle insurance customer',fontsize=13)\n",
    "plt.text(12,0.07,s='Customer Response Rates by Age',fontsize=15);"
   ]
  },
  {
   "cell_type": "markdown",
   "metadata": {},
   "source": [
    "### Policy Sales Channel"
   ]
  },
  {
   "cell_type": "code",
   "execution_count": 60,
   "metadata": {},
   "outputs": [
    {
     "data": {
      "text/html": [
       "<div>\n",
       "<style scoped>\n",
       "    .dataframe tbody tr th:only-of-type {\n",
       "        vertical-align: middle;\n",
       "    }\n",
       "\n",
       "    .dataframe tbody tr th {\n",
       "        vertical-align: top;\n",
       "    }\n",
       "\n",
       "    .dataframe thead th {\n",
       "        text-align: right;\n",
       "    }\n",
       "</style>\n",
       "<table border=\"1\" class=\"dataframe\">\n",
       "  <thead>\n",
       "    <tr style=\"text-align: right;\">\n",
       "      <th></th>\n",
       "      <th>Policy_Sales_Channel</th>\n",
       "      <th>id_x</th>\n",
       "      <th>id_y</th>\n",
       "      <th>percentage</th>\n",
       "    </tr>\n",
       "  </thead>\n",
       "  <tbody>\n",
       "    <tr>\n",
       "      <th>25</th>\n",
       "      <td>28.0</td>\n",
       "      <td>1</td>\n",
       "      <td>2.0</td>\n",
       "      <td>33.0</td>\n",
       "    </tr>\n",
       "    <tr>\n",
       "      <th>24</th>\n",
       "      <td>27.0</td>\n",
       "      <td>1</td>\n",
       "      <td>2.0</td>\n",
       "      <td>33.0</td>\n",
       "    </tr>\n",
       "    <tr>\n",
       "      <th>60</th>\n",
       "      <td>80.0</td>\n",
       "      <td>4</td>\n",
       "      <td>8.0</td>\n",
       "      <td>33.0</td>\n",
       "    </tr>\n",
       "    <tr>\n",
       "      <th>112</th>\n",
       "      <td>155.0</td>\n",
       "      <td>388</td>\n",
       "      <td>820.0</td>\n",
       "      <td>32.0</td>\n",
       "    </tr>\n",
       "    <tr>\n",
       "      <th>87</th>\n",
       "      <td>121.0</td>\n",
       "      <td>19</td>\n",
       "      <td>43.0</td>\n",
       "      <td>31.0</td>\n",
       "    </tr>\n",
       "    <tr>\n",
       "      <th>31</th>\n",
       "      <td>36.0</td>\n",
       "      <td>15</td>\n",
       "      <td>34.0</td>\n",
       "      <td>31.0</td>\n",
       "    </tr>\n",
       "    <tr>\n",
       "      <th>118</th>\n",
       "      <td>163.0</td>\n",
       "      <td>867</td>\n",
       "      <td>1989.0</td>\n",
       "      <td>30.0</td>\n",
       "    </tr>\n",
       "    <tr>\n",
       "      <th>2</th>\n",
       "      <td>3.0</td>\n",
       "      <td>145</td>\n",
       "      <td>341.0</td>\n",
       "      <td>30.0</td>\n",
       "    </tr>\n",
       "  </tbody>\n",
       "</table>\n",
       "</div>"
      ],
      "text/plain": [
       "     Policy_Sales_Channel  id_x    id_y  percentage\n",
       "25                   28.0     1     2.0        33.0\n",
       "24                   27.0     1     2.0        33.0\n",
       "60                   80.0     4     8.0        33.0\n",
       "112                 155.0   388   820.0        32.0\n",
       "87                  121.0    19    43.0        31.0\n",
       "31                   36.0    15    34.0        31.0\n",
       "118                 163.0   867  1989.0        30.0\n",
       "2                     3.0   145   341.0        30.0"
      ]
     },
     "execution_count": 60,
     "metadata": {},
     "output_type": "execute_result"
    }
   ],
   "source": [
    "psc=yes3.groupby('Policy_Sales_Channel').count().reset_index()\n",
    "psc_yes=psc.sort_values('Policy_Sales_Channel',ascending=True)[['Policy_Sales_Channel','id']]\n",
    "psc_no=no3.groupby('Policy_Sales_Channel').count().reset_index().sort_values('Policy_Sales_Channel',ascending=True)\n",
    "psc_percentage=psc_yes.merge(psc_no,\n",
    "                            left_on='Policy_Sales_Channel',\n",
    "                            right_on='Policy_Sales_Channel',\n",
    "                            how='left')\n",
    "psc_percentage=psc_percentage[['Policy_Sales_Channel','id_x','id_y']]\n",
    "psc_percentage['percentage']=round((psc_percentage['id_x']/(psc_percentage['id_x']+psc_percentage['id_y']))*100)\n",
    "psc_priority=psc_percentage.sort_values('percentage',ascending=False).head(8)\n",
    "psc_priority"
   ]
  },
  {
   "cell_type": "markdown",
   "metadata": {},
   "source": [
    "### Region Code"
   ]
  },
  {
   "cell_type": "code",
   "execution_count": 61,
   "metadata": {},
   "outputs": [
    {
     "data": {
      "text/html": [
       "<div>\n",
       "<style scoped>\n",
       "    .dataframe tbody tr th:only-of-type {\n",
       "        vertical-align: middle;\n",
       "    }\n",
       "\n",
       "    .dataframe tbody tr th {\n",
       "        vertical-align: top;\n",
       "    }\n",
       "\n",
       "    .dataframe thead th {\n",
       "        text-align: right;\n",
       "    }\n",
       "</style>\n",
       "<table border=\"1\" class=\"dataframe\">\n",
       "  <thead>\n",
       "    <tr style=\"text-align: right;\">\n",
       "      <th></th>\n",
       "      <th>index</th>\n",
       "      <th>Region_Code</th>\n",
       "      <th>yes</th>\n",
       "      <th>no</th>\n",
       "      <th>Percentage</th>\n",
       "    </tr>\n",
       "  </thead>\n",
       "  <tbody>\n",
       "    <tr>\n",
       "      <th>0</th>\n",
       "      <td>28</td>\n",
       "      <td>28.0</td>\n",
       "      <td>18704</td>\n",
       "      <td>81037</td>\n",
       "      <td>19.0</td>\n",
       "    </tr>\n",
       "    <tr>\n",
       "      <th>1</th>\n",
       "      <td>38</td>\n",
       "      <td>38.0</td>\n",
       "      <td>386</td>\n",
       "      <td>1620</td>\n",
       "      <td>19.0</td>\n",
       "    </tr>\n",
       "    <tr>\n",
       "      <th>2</th>\n",
       "      <td>4</td>\n",
       "      <td>4.0</td>\n",
       "      <td>283</td>\n",
       "      <td>1513</td>\n",
       "      <td>16.0</td>\n",
       "    </tr>\n",
       "    <tr>\n",
       "      <th>3</th>\n",
       "      <td>19</td>\n",
       "      <td>19.0</td>\n",
       "      <td>250</td>\n",
       "      <td>1284</td>\n",
       "      <td>16.0</td>\n",
       "    </tr>\n",
       "    <tr>\n",
       "      <th>4</th>\n",
       "      <td>51</td>\n",
       "      <td>51.0</td>\n",
       "      <td>26</td>\n",
       "      <td>148</td>\n",
       "      <td>15.0</td>\n",
       "    </tr>\n",
       "    <tr>\n",
       "      <th>5</th>\n",
       "      <td>23</td>\n",
       "      <td>23.0</td>\n",
       "      <td>299</td>\n",
       "      <td>1659</td>\n",
       "      <td>15.0</td>\n",
       "    </tr>\n",
       "  </tbody>\n",
       "</table>\n",
       "</div>"
      ],
      "text/plain": [
       "   index  Region_Code    yes     no  Percentage\n",
       "0     28         28.0  18704  81037        19.0\n",
       "1     38         38.0    386   1620        19.0\n",
       "2      4          4.0    283   1513        16.0\n",
       "3     19         19.0    250   1284        16.0\n",
       "4     51         51.0     26    148        15.0\n",
       "5     23         23.0    299   1659        15.0"
      ]
     },
     "execution_count": 61,
     "metadata": {},
     "output_type": "execute_result"
    }
   ],
   "source": [
    "region_code_yes=yes3.groupby('Region_Code').count().reset_index()[['Region_Code','id']]\n",
    "region_code_no=no3.groupby('Region_Code').count().reset_index()[['Region_Code','id']]\n",
    "region_code_yes['no']=region_code_no['id']\n",
    "region_code_merge=region_code_yes.rename(columns={'id':'yes'})\n",
    "region_code_merge['Percentage']=round((region_code_merge['yes']/(region_code_merge['yes']+region_code_merge['no']))*100)\n",
    "best_region=region_code_merge.sort_values('Percentage',ascending=False).reset_index().head(6)\n",
    "best_region"
   ]
  },
  {
   "cell_type": "code",
   "execution_count": 62,
   "metadata": {},
   "outputs": [
    {
     "data": {
      "image/png": "[encoded data removed]",
      "text/plain": [
       "<Figure size 2160x648 with 2 Axes>"
      ]
     },
     "metadata": {
      "needs_background": "light"
     },
     "output_type": "display_data"
    }
   ],
   "source": [
    "fig,ax=plt.subplots(1,2,figsize=(30,9))\n",
    "\n",
    "sns.barplot(x=best_region['Region_Code'].astype(int),y=best_region['Percentage'],color='cornflowerblue',ax=ax[0])\n",
    "ax[0].text(x=-0.05,y=16.5,s='16',fontweight='bold',fontsize=13)\n",
    "ax[0].text(x=-0.05+1,y=16.5,s='16',fontweight='bold',fontsize=13)\n",
    "ax[0].text(x=-0.05+2,y=15.5,s='15',fontweight='bold',fontsize=13)\n",
    "ax[0].text(x=-0.05+5,y=15.5,s='15',fontweight='bold',fontsize=13)\n",
    "ax[0].text(x=-0.05+3,y=19.3,s='19',fontweight='bold',fontsize=13)\n",
    "ax[0].text(x=-0.05+4,y=19.3,s='19',fontweight='bold',fontsize=13)\n",
    "ax[0].set_title('Region Code Highest Percentage (%)',fontsize=15,fontweight='bold')\n",
    "\n",
    "sns.barplot(x=psc_priority['Policy_Sales_Channel'].astype(int),y=psc_priority['percentage'],color='cornflowerblue',ax=ax[1])\n",
    "ax[1].set_title('Policy Sales Channel Highest Percentage (%)',fontsize=15,fontweight='bold')\n",
    "ax[1].text(x=-0.07,y=30.5,s='30',fontweight='bold',fontsize=13)\n",
    "ax[1].text(x=0.05+0.85,y=33.5,s='33',fontweight='bold',fontsize=13)\n",
    "ax[1].text(x=0.05+1.85,y=33.5,s='33',fontweight='bold',fontsize=13)\n",
    "ax[1].text(x=0.05+2.85,y=31.5,s='31',fontweight='bold',fontsize=13)\n",
    "ax[1].text(x=0.05+3.85,y=33.5,s='33',fontweight='bold',fontsize=13)\n",
    "ax[1].text(x=0.05+4.85,y=31.5,s='31',fontweight='bold',fontsize=13)\n",
    "ax[1].text(x=0.05+5.85,y=32.5,s='32',fontweight='bold',fontsize=13)\n",
    "ax[1].text(x=0.05+6.85,y=30.5,s='30',fontweight='bold',fontsize=13);"
   ]
  },
  {
   "cell_type": "markdown",
   "metadata": {},
   "source": [
    "## **There are several points that we can conclude from the data:**\n",
    "## **Potential Customer**\n",
    "- Basically, vehicle insurance potential customer are customer who has **driving license**, **previously has insured**, and has experienced **vehicle damage.**\n",
    "\n",
    "## **Priority Customer**\n",
    "\n",
    "### **Age**\n",
    "- Prioritize customer with **age between 30-62**, because most of the customer who interested in vehicle insurance are come from that age range.\n",
    "- Customer with age **below 30** are not really interested with vehicle insurance. However, since the number of customer in this age range is quite big, we need to **consider another strategy** to approach this age range. **Other vehicle insurance package with lower annual premium** perhaps will acceptable because this age range probably don't have big income. \n",
    "\n",
    "### **Vehicle Age**\n",
    "- Prioritize customer with **vehicle age more than 2 years**, even though the number of interested in this category is not bigger than the other, the percentage is quite big. Around 30% of customer with vehicle age more than 2 years is interested in using vehicle insurance.\n",
    "- Same approach strategy with age, **package with lower annual premium** perhaps can attract customer with vehicle age less than 2 years\n",
    "\n",
    "### **Region Code**\n",
    "- Overall, there are 6 region with **highest percentage, 4, 19, 23, 28, 38, and 51.**\n",
    "- First, **focus on approaching customer in those region**, because the success rate is higher than the other region.\n",
    "- After finish with those region, **approaching other region still necessary**. But, to make it more efficient, it would be better if machine learning model is used (will be discussed after this part)\n",
    "\n",
    "### **Policy Sales Channel**\n",
    "- Overall, there are 6 policy sales channel with **highest percentage, 3, 27, 38, 36, 80, 121, 155, and 163.**\n",
    "- Sales agent is **recommended to use those channel** method since the success rate is higher compare with the other channel."
   ]
  },
  {
   "cell_type": "markdown",
   "metadata": {},
   "source": [
    "# Modelling"
   ]
  },
  {
   "cell_type": "code",
   "execution_count": 63,
   "metadata": {},
   "outputs": [
    {
     "data": {
      "text/html": [
       "<div>\n",
       "<style scoped>\n",
       "    .dataframe tbody tr th:only-of-type {\n",
       "        vertical-align: middle;\n",
       "    }\n",
       "\n",
       "    .dataframe tbody tr th {\n",
       "        vertical-align: top;\n",
       "    }\n",
       "\n",
       "    .dataframe thead th {\n",
       "        text-align: right;\n",
       "    }\n",
       "</style>\n",
       "<table border=\"1\" class=\"dataframe\">\n",
       "  <thead>\n",
       "    <tr style=\"text-align: right;\">\n",
       "      <th></th>\n",
       "      <th>Age_Label</th>\n",
       "      <th>Driving_License</th>\n",
       "      <th>Region_Code</th>\n",
       "      <th>Previously_Insured</th>\n",
       "      <th>policy_sales_channel_label</th>\n",
       "      <th>vintage_by_month_round</th>\n",
       "      <th>Gender_Female</th>\n",
       "      <th>Gender_Male</th>\n",
       "      <th>Vehicle_Age_Label</th>\n",
       "      <th>Vehicle_Damage_Label</th>\n",
       "      <th>Annual_Premium_Label</th>\n",
       "      <th>Response</th>\n",
       "    </tr>\n",
       "  </thead>\n",
       "  <tbody>\n",
       "    <tr>\n",
       "      <th>366524</th>\n",
       "      <td>2</td>\n",
       "      <td>1</td>\n",
       "      <td>28.0</td>\n",
       "      <td>0</td>\n",
       "      <td>3</td>\n",
       "      <td>5</td>\n",
       "      <td>1</td>\n",
       "      <td>0</td>\n",
       "      <td>1</td>\n",
       "      <td>1</td>\n",
       "      <td>0</td>\n",
       "      <td>0</td>\n",
       "    </tr>\n",
       "    <tr>\n",
       "      <th>158042</th>\n",
       "      <td>1</td>\n",
       "      <td>1</td>\n",
       "      <td>9.0</td>\n",
       "      <td>1</td>\n",
       "      <td>1</td>\n",
       "      <td>5</td>\n",
       "      <td>1</td>\n",
       "      <td>0</td>\n",
       "      <td>1</td>\n",
       "      <td>0</td>\n",
       "      <td>3</td>\n",
       "      <td>0</td>\n",
       "    </tr>\n",
       "    <tr>\n",
       "      <th>348550</th>\n",
       "      <td>0</td>\n",
       "      <td>1</td>\n",
       "      <td>28.0</td>\n",
       "      <td>1</td>\n",
       "      <td>0</td>\n",
       "      <td>8</td>\n",
       "      <td>1</td>\n",
       "      <td>0</td>\n",
       "      <td>0</td>\n",
       "      <td>0</td>\n",
       "      <td>1</td>\n",
       "      <td>0</td>\n",
       "    </tr>\n",
       "    <tr>\n",
       "      <th>119874</th>\n",
       "      <td>1</td>\n",
       "      <td>1</td>\n",
       "      <td>28.0</td>\n",
       "      <td>0</td>\n",
       "      <td>0</td>\n",
       "      <td>3</td>\n",
       "      <td>1</td>\n",
       "      <td>0</td>\n",
       "      <td>1</td>\n",
       "      <td>1</td>\n",
       "      <td>0</td>\n",
       "      <td>0</td>\n",
       "    </tr>\n",
       "    <tr>\n",
       "      <th>203465</th>\n",
       "      <td>0</td>\n",
       "      <td>1</td>\n",
       "      <td>11.0</td>\n",
       "      <td>0</td>\n",
       "      <td>0</td>\n",
       "      <td>2</td>\n",
       "      <td>0</td>\n",
       "      <td>1</td>\n",
       "      <td>1</td>\n",
       "      <td>0</td>\n",
       "      <td>3</td>\n",
       "      <td>0</td>\n",
       "    </tr>\n",
       "  </tbody>\n",
       "</table>\n",
       "</div>"
      ],
      "text/plain": [
       "        Age_Label  Driving_License  Region_Code  Previously_Insured  \\\n",
       "366524          2                1         28.0                   0   \n",
       "158042          1                1          9.0                   1   \n",
       "348550          0                1         28.0                   1   \n",
       "119874          1                1         28.0                   0   \n",
       "203465          0                1         11.0                   0   \n",
       "\n",
       "        policy_sales_channel_label  vintage_by_month_round  Gender_Female  \\\n",
       "366524                           3                       5              1   \n",
       "158042                           1                       5              1   \n",
       "348550                           0                       8              1   \n",
       "119874                           0                       3              1   \n",
       "203465                           0                       2              0   \n",
       "\n",
       "        Gender_Male  Vehicle_Age_Label  Vehicle_Damage_Label  \\\n",
       "366524            0                  1                     1   \n",
       "158042            0                  1                     0   \n",
       "348550            0                  0                     0   \n",
       "119874            0                  1                     1   \n",
       "203465            1                  1                     0   \n",
       "\n",
       "        Annual_Premium_Label  Response  \n",
       "366524                     0         0  \n",
       "158042                     3         0  \n",
       "348550                     1         0  \n",
       "119874                     0         0  \n",
       "203465                     3         0  "
      ]
     },
     "execution_count": 63,
     "metadata": {},
     "output_type": "execute_result"
    }
   ],
   "source": [
    "df4=df3[['Age_Label','Driving_License','Region_Code','Previously_Insured','policy_sales_channel_label','vintage_by_month_round','Gender_Female','Gender_Male','Vehicle_Age_Label','Vehicle_Damage_Label','Annual_Premium_Label','Response']]\n",
    "df4.sample(5)"
   ]
  },
  {
   "cell_type": "markdown",
   "metadata": {},
   "source": [
    "### Split Train & Test Data"
   ]
  },
  {
   "cell_type": "code",
   "execution_count": 64,
   "metadata": {},
   "outputs": [],
   "source": [
    "x=df4.drop(['Response'],axis=1)\n",
    "y=df4['Response']\n",
    "xtrain1,xtest,ytrain1,ytest=train_test_split(x,y,test_size=0.3,random_state=42)"
   ]
  },
  {
   "cell_type": "markdown",
   "metadata": {},
   "source": [
    "### Oversampling"
   ]
  },
  {
   "cell_type": "code",
   "execution_count": 65,
   "metadata": {},
   "outputs": [
    {
     "name": "stdout",
     "output_type": "stream",
     "text": [
      "(370789, 11)\n",
      "(370789,)\n"
     ]
    }
   ],
   "source": [
    "x=df4.drop('Response',axis=1)\n",
    "y=df4['Response']\n",
    "print(x.shape)\n",
    "print(y.shape)"
   ]
  },
  {
   "cell_type": "code",
   "execution_count": 66,
   "metadata": {},
   "outputs": [
    {
     "name": "stdout",
     "output_type": "stream",
     "text": [
      "1    325634\n",
      "0    325634\n",
      "Name: Response, dtype: int64\n"
     ]
    },
    {
     "data": {
      "text/html": [
       "<div>\n",
       "<style scoped>\n",
       "    .dataframe tbody tr th:only-of-type {\n",
       "        vertical-align: middle;\n",
       "    }\n",
       "\n",
       "    .dataframe tbody tr th {\n",
       "        vertical-align: top;\n",
       "    }\n",
       "\n",
       "    .dataframe thead th {\n",
       "        text-align: right;\n",
       "    }\n",
       "</style>\n",
       "<table border=\"1\" class=\"dataframe\">\n",
       "  <thead>\n",
       "    <tr style=\"text-align: right;\">\n",
       "      <th></th>\n",
       "      <th>Age_Label</th>\n",
       "      <th>Driving_License</th>\n",
       "      <th>Region_Code</th>\n",
       "      <th>Previously_Insured</th>\n",
       "      <th>policy_sales_channel_label</th>\n",
       "      <th>vintage_by_month_round</th>\n",
       "      <th>Gender_Female</th>\n",
       "      <th>Gender_Male</th>\n",
       "      <th>Vehicle_Age_Label</th>\n",
       "      <th>Vehicle_Damage_Label</th>\n",
       "      <th>Annual_Premium_Label</th>\n",
       "      <th>Response</th>\n",
       "    </tr>\n",
       "  </thead>\n",
       "  <tbody>\n",
       "    <tr>\n",
       "      <th>0</th>\n",
       "      <td>2</td>\n",
       "      <td>1</td>\n",
       "      <td>28.0</td>\n",
       "      <td>0</td>\n",
       "      <td>3</td>\n",
       "      <td>7</td>\n",
       "      <td>0</td>\n",
       "      <td>1</td>\n",
       "      <td>2</td>\n",
       "      <td>1</td>\n",
       "      <td>1</td>\n",
       "      <td>1</td>\n",
       "    </tr>\n",
       "    <tr>\n",
       "      <th>1</th>\n",
       "      <td>1</td>\n",
       "      <td>1</td>\n",
       "      <td>3.0</td>\n",
       "      <td>0</td>\n",
       "      <td>3</td>\n",
       "      <td>6</td>\n",
       "      <td>0</td>\n",
       "      <td>1</td>\n",
       "      <td>1</td>\n",
       "      <td>0</td>\n",
       "      <td>0</td>\n",
       "      <td>0</td>\n",
       "    </tr>\n",
       "    <tr>\n",
       "      <th>2</th>\n",
       "      <td>2</td>\n",
       "      <td>1</td>\n",
       "      <td>28.0</td>\n",
       "      <td>0</td>\n",
       "      <td>3</td>\n",
       "      <td>1</td>\n",
       "      <td>0</td>\n",
       "      <td>1</td>\n",
       "      <td>2</td>\n",
       "      <td>1</td>\n",
       "      <td>0</td>\n",
       "      <td>1</td>\n",
       "    </tr>\n",
       "    <tr>\n",
       "      <th>3</th>\n",
       "      <td>0</td>\n",
       "      <td>1</td>\n",
       "      <td>11.0</td>\n",
       "      <td>1</td>\n",
       "      <td>0</td>\n",
       "      <td>7</td>\n",
       "      <td>0</td>\n",
       "      <td>1</td>\n",
       "      <td>0</td>\n",
       "      <td>0</td>\n",
       "      <td>0</td>\n",
       "      <td>0</td>\n",
       "    </tr>\n",
       "    <tr>\n",
       "      <th>4</th>\n",
       "      <td>0</td>\n",
       "      <td>1</td>\n",
       "      <td>41.0</td>\n",
       "      <td>1</td>\n",
       "      <td>0</td>\n",
       "      <td>1</td>\n",
       "      <td>1</td>\n",
       "      <td>0</td>\n",
       "      <td>0</td>\n",
       "      <td>0</td>\n",
       "      <td>0</td>\n",
       "      <td>0</td>\n",
       "    </tr>\n",
       "  </tbody>\n",
       "</table>\n",
       "</div>"
      ],
      "text/plain": [
       "   Age_Label  Driving_License  Region_Code  Previously_Insured  \\\n",
       "0          2                1         28.0                   0   \n",
       "1          1                1          3.0                   0   \n",
       "2          2                1         28.0                   0   \n",
       "3          0                1         11.0                   1   \n",
       "4          0                1         41.0                   1   \n",
       "\n",
       "   policy_sales_channel_label  vintage_by_month_round  Gender_Female  \\\n",
       "0                           3                       7              0   \n",
       "1                           3                       6              0   \n",
       "2                           3                       1              0   \n",
       "3                           0                       7              0   \n",
       "4                           0                       1              1   \n",
       "\n",
       "   Gender_Male  Vehicle_Age_Label  Vehicle_Damage_Label  Annual_Premium_Label  \\\n",
       "0            1                  2                     1                     1   \n",
       "1            1                  1                     0                     0   \n",
       "2            1                  2                     1                     0   \n",
       "3            1                  0                     0                     0   \n",
       "4            0                  0                     0                     0   \n",
       "\n",
       "   Response  \n",
       "0         1  \n",
       "1         0  \n",
       "2         1  \n",
       "3         0  \n",
       "4         0  "
      ]
     },
     "execution_count": 66,
     "metadata": {},
     "output_type": "execute_result"
    }
   ],
   "source": [
    "x_over,y_over=over_sampling.RandomOverSampler().fit_resample(x,y)\n",
    "print(pd.Series(y_over).value_counts())\n",
    "train1=x_over\n",
    "train1['Response']=y_over\n",
    "train1.head()"
   ]
  },
  {
   "cell_type": "markdown",
   "metadata": {},
   "source": [
    "### Split Train & Test Data"
   ]
  },
  {
   "cell_type": "code",
   "execution_count": 67,
   "metadata": {},
   "outputs": [],
   "source": [
    "x=train1.drop(['Response'],axis=1)\n",
    "y=train1['Response']\n",
    "xtrain,xtest,ytrain,ytest=train_test_split(x,y,test_size=0.3,random_state=42)"
   ]
  },
  {
   "cell_type": "markdown",
   "metadata": {},
   "source": [
    "### Modelling"
   ]
  },
  {
   "cell_type": "code",
   "execution_count": 68,
   "metadata": {},
   "outputs": [],
   "source": [
    "regressors = [LogisticRegression(max_iter=1000),\n",
    "              XGBClassifier(eval_metric='auc',\n",
    "                            use_label_encoder =False),\n",
    "              AdaBoostClassifier(),\n",
    "              KNeighborsClassifier(),\n",
    "              RandomForestClassifier(),\n",
    "              DecisionTreeClassifier()]\n",
    "\n",
    "eval_test = pd.DataFrame(columns = ['Method','Accuracy', 'Precision', 'Recall', 'ROC-AUC'])\n",
    "eval_train = pd.DataFrame(columns = ['Method','Accuracy', 'Precision', 'Recall', 'ROC-AUC'])"
   ]
  },
  {
   "cell_type": "code",
   "execution_count": 69,
   "metadata": {},
   "outputs": [],
   "source": [
    "for regressor in regressors:\n",
    "    regressor.fit(xtrain, ytrain)\n",
    "    ypred = regressor.predict(xtest)\n",
    "    \n",
    "    method = str(type(regressor)).split('.')[-1][:-2]\n",
    "    \n",
    "    accuracy = accuracy_score(ytest, ypred)\n",
    "    \n",
    "    precision = precision_score(ytest, ypred)\n",
    "    \n",
    "    recall = recall_score(ytest, ypred)\n",
    "    \n",
    "    ROC_AUC = roc_auc_score(ytest,ypred)\n",
    "    \n",
    "    eval_test = eval_test.append({'Method': method, \n",
    "                    'Accuracy': accuracy, \n",
    "                    'Precision': precision,\n",
    "                    'Recall': recall,\n",
    "                    'ROC-AUC': ROC_AUC},\n",
    "                     ignore_index=True)"
   ]
  },
  {
   "cell_type": "code",
   "execution_count": 70,
   "metadata": {},
   "outputs": [
    {
     "data": {
      "text/html": [
       "<div>\n",
       "<style scoped>\n",
       "    .dataframe tbody tr th:only-of-type {\n",
       "        vertical-align: middle;\n",
       "    }\n",
       "\n",
       "    .dataframe tbody tr th {\n",
       "        vertical-align: top;\n",
       "    }\n",
       "\n",
       "    .dataframe thead th {\n",
       "        text-align: right;\n",
       "    }\n",
       "</style>\n",
       "<table border=\"1\" class=\"dataframe\">\n",
       "  <thead>\n",
       "    <tr style=\"text-align: right;\">\n",
       "      <th></th>\n",
       "      <th>Method</th>\n",
       "      <th>Accuracy</th>\n",
       "      <th>Precision</th>\n",
       "      <th>Recall</th>\n",
       "      <th>ROC-AUC</th>\n",
       "    </tr>\n",
       "  </thead>\n",
       "  <tbody>\n",
       "    <tr>\n",
       "      <th>0</th>\n",
       "      <td>LogisticRegression</td>\n",
       "      <td>0.784472</td>\n",
       "      <td>0.706277</td>\n",
       "      <td>0.974815</td>\n",
       "      <td>0.784265</td>\n",
       "    </tr>\n",
       "    <tr>\n",
       "      <th>1</th>\n",
       "      <td>XGBClassifier</td>\n",
       "      <td>0.801306</td>\n",
       "      <td>0.738638</td>\n",
       "      <td>0.933280</td>\n",
       "      <td>0.801162</td>\n",
       "    </tr>\n",
       "    <tr>\n",
       "      <th>2</th>\n",
       "      <td>AdaBoostClassifier</td>\n",
       "      <td>0.786028</td>\n",
       "      <td>0.711454</td>\n",
       "      <td>0.963148</td>\n",
       "      <td>0.785835</td>\n",
       "    </tr>\n",
       "    <tr>\n",
       "      <th>3</th>\n",
       "      <td>KNeighborsClassifier</td>\n",
       "      <td>0.798455</td>\n",
       "      <td>0.749964</td>\n",
       "      <td>0.896111</td>\n",
       "      <td>0.798349</td>\n",
       "    </tr>\n",
       "    <tr>\n",
       "      <th>4</th>\n",
       "      <td>RandomForestClassifier</td>\n",
       "      <td>0.832230</td>\n",
       "      <td>0.771374</td>\n",
       "      <td>0.944876</td>\n",
       "      <td>0.832107</td>\n",
       "    </tr>\n",
       "    <tr>\n",
       "      <th>5</th>\n",
       "      <td>DecisionTreeClassifier</td>\n",
       "      <td>0.830848</td>\n",
       "      <td>0.772646</td>\n",
       "      <td>0.938106</td>\n",
       "      <td>0.830731</td>\n",
       "    </tr>\n",
       "  </tbody>\n",
       "</table>\n",
       "</div>"
      ],
      "text/plain": [
       "                   Method  Accuracy  Precision    Recall   ROC-AUC\n",
       "0      LogisticRegression  0.784472   0.706277  0.974815  0.784265\n",
       "1           XGBClassifier  0.801306   0.738638  0.933280  0.801162\n",
       "2      AdaBoostClassifier  0.786028   0.711454  0.963148  0.785835\n",
       "3    KNeighborsClassifier  0.798455   0.749964  0.896111  0.798349\n",
       "4  RandomForestClassifier  0.832230   0.771374  0.944876  0.832107\n",
       "5  DecisionTreeClassifier  0.830848   0.772646  0.938106  0.830731"
      ]
     },
     "execution_count": 70,
     "metadata": {},
     "output_type": "execute_result"
    }
   ],
   "source": [
    "eval_test"
   ]
  },
  {
   "cell_type": "code",
   "execution_count": 71,
   "metadata": {},
   "outputs": [],
   "source": [
    "for regressor in regressors:\n",
    "    regressor.fit(xtrain, ytrain)\n",
    "    ypred = regressor.predict(xtrain)\n",
    "    \n",
    "    method = str(type(regressor)).split('.')[-1][:-2]\n",
    "    \n",
    "    accuracy = accuracy_score(ytrain, ypred)\n",
    "    \n",
    "    precision = precision_score(ytrain, ypred)\n",
    "    \n",
    "    recall = recall_score(ytrain, ypred)\n",
    "    \n",
    "    ROC_AUC = roc_auc_score(ytrain,ypred)\n",
    "    \n",
    "    eval_train = eval_train.append({'Method': method, \n",
    "                    'Accuracy': accuracy, \n",
    "                    'Precision': precision,\n",
    "                    'Recall': recall,\n",
    "                    'ROC-AUC': ROC_AUC},\n",
    "                     ignore_index=True)"
   ]
  },
  {
   "cell_type": "code",
   "execution_count": 72,
   "metadata": {},
   "outputs": [
    {
     "data": {
      "text/html": [
       "<div>\n",
       "<style scoped>\n",
       "    .dataframe tbody tr th:only-of-type {\n",
       "        vertical-align: middle;\n",
       "    }\n",
       "\n",
       "    .dataframe tbody tr th {\n",
       "        vertical-align: top;\n",
       "    }\n",
       "\n",
       "    .dataframe thead th {\n",
       "        text-align: right;\n",
       "    }\n",
       "</style>\n",
       "<table border=\"1\" class=\"dataframe\">\n",
       "  <thead>\n",
       "    <tr style=\"text-align: right;\">\n",
       "      <th></th>\n",
       "      <th>Method</th>\n",
       "      <th>Accuracy</th>\n",
       "      <th>Precision</th>\n",
       "      <th>Recall</th>\n",
       "      <th>ROC-AUC</th>\n",
       "    </tr>\n",
       "  </thead>\n",
       "  <tbody>\n",
       "    <tr>\n",
       "      <th>0</th>\n",
       "      <td>LogisticRegression</td>\n",
       "      <td>0.784567</td>\n",
       "      <td>0.705751</td>\n",
       "      <td>0.975755</td>\n",
       "      <td>0.784657</td>\n",
       "    </tr>\n",
       "    <tr>\n",
       "      <th>1</th>\n",
       "      <td>XGBClassifier</td>\n",
       "      <td>0.803780</td>\n",
       "      <td>0.739477</td>\n",
       "      <td>0.937754</td>\n",
       "      <td>0.803843</td>\n",
       "    </tr>\n",
       "    <tr>\n",
       "      <th>2</th>\n",
       "      <td>AdaBoostClassifier</td>\n",
       "      <td>0.786094</td>\n",
       "      <td>0.710879</td>\n",
       "      <td>0.964093</td>\n",
       "      <td>0.786177</td>\n",
       "    </tr>\n",
       "    <tr>\n",
       "      <th>3</th>\n",
       "      <td>KNeighborsClassifier</td>\n",
       "      <td>0.817238</td>\n",
       "      <td>0.767761</td>\n",
       "      <td>0.909383</td>\n",
       "      <td>0.817281</td>\n",
       "    </tr>\n",
       "    <tr>\n",
       "      <th>4</th>\n",
       "      <td>RandomForestClassifier</td>\n",
       "      <td>0.849632</td>\n",
       "      <td>0.787387</td>\n",
       "      <td>0.957733</td>\n",
       "      <td>0.849682</td>\n",
       "    </tr>\n",
       "    <tr>\n",
       "      <th>5</th>\n",
       "      <td>DecisionTreeClassifier</td>\n",
       "      <td>0.849636</td>\n",
       "      <td>0.789884</td>\n",
       "      <td>0.952506</td>\n",
       "      <td>0.849684</td>\n",
       "    </tr>\n",
       "  </tbody>\n",
       "</table>\n",
       "</div>"
      ],
      "text/plain": [
       "                   Method  Accuracy  Precision    Recall   ROC-AUC\n",
       "0      LogisticRegression  0.784567   0.705751  0.975755  0.784657\n",
       "1           XGBClassifier  0.803780   0.739477  0.937754  0.803843\n",
       "2      AdaBoostClassifier  0.786094   0.710879  0.964093  0.786177\n",
       "3    KNeighborsClassifier  0.817238   0.767761  0.909383  0.817281\n",
       "4  RandomForestClassifier  0.849632   0.787387  0.957733  0.849682\n",
       "5  DecisionTreeClassifier  0.849636   0.789884  0.952506  0.849684"
      ]
     },
     "execution_count": 72,
     "metadata": {},
     "output_type": "execute_result"
    }
   ],
   "source": [
    "eval_train"
   ]
  },
  {
   "cell_type": "markdown",
   "metadata": {},
   "source": [
    "## Tuning Hyperparameter for the Best Model (Random Forest)"
   ]
  },
  {
   "cell_type": "code",
   "execution_count": 73,
   "metadata": {},
   "outputs": [
    {
     "data": {
      "text/plain": [
       "RandomForestClassifier(max_depth=40, n_estimators=500, random_state=42)"
      ]
     },
     "execution_count": 73,
     "metadata": {},
     "output_type": "execute_result"
    }
   ],
   "source": [
    "rf_param=RandomForestClassifier(random_state= 42,\n",
    "                          n_estimators = 500,\n",
    "                          max_depth = 40,\n",
    "                          min_samples_leaf=1)\n",
    "rf_param.fit(xtrain,ytrain)"
   ]
  },
  {
   "cell_type": "code",
   "execution_count": 74,
   "metadata": {},
   "outputs": [
    {
     "name": "stdout",
     "output_type": "stream",
     "text": [
      "accuracy\n",
      "0.8321842963235934\n",
      "\n",
      "precision\n",
      "0.7714249926934157\n",
      "\n",
      "recall\n",
      "0.9446302033804718\n",
      "\n",
      "roc_auc\n",
      "0.8320615765221755\n"
     ]
    }
   ],
   "source": [
    "ypred_param = rf_param.predict(xtest)\n",
    "print('accuracy')\n",
    "print(accuracy_score(ytest, ypred_param))\n",
    "print('')\n",
    "print('precision')\n",
    "print(precision_score(ytest, ypred_param))\n",
    "print('')\n",
    "print('recall')\n",
    "print(recall_score(ytest, ypred_param))\n",
    "print('')\n",
    "print('roc_auc')\n",
    "print(roc_auc_score(ytest,ypred_param))"
   ]
  },
  {
   "cell_type": "code",
   "execution_count": 75,
   "metadata": {},
   "outputs": [
    {
     "name": "stdout",
     "output_type": "stream",
     "text": [
      "accuracy\n",
      "0.8496337908297451\n",
      "\n",
      "precision\n",
      "0.7876888733162596\n",
      "\n",
      "recall\n",
      "0.9571009098609972\n",
      "\n",
      "roc_auc\n",
      "0.849683978280641\n"
     ]
    }
   ],
   "source": [
    "ypred_param = rf_param.predict(xtrain)\n",
    "print('accuracy')\n",
    "print(accuracy_score(ytrain, ypred_param))\n",
    "print('')\n",
    "print('precision')\n",
    "print(precision_score(ytrain, ypred_param))\n",
    "print('')\n",
    "print('recall')\n",
    "print(recall_score(ytrain, ypred_param))\n",
    "print('')\n",
    "print('roc_auc')\n",
    "print(roc_auc_score(ytrain,ypred_param))"
   ]
  },
  {
   "cell_type": "code",
   "execution_count": 76,
   "metadata": {},
   "outputs": [
    {
     "data": {
      "text/plain": [
       "array([0.03555388, 0.0011715 , 0.16898417, 0.26647045, 0.04612167,\n",
       "       0.08362905, 0.00221736, 0.00220657, 0.06585213, 0.3055689 ,\n",
       "       0.02222431])"
      ]
     },
     "execution_count": 76,
     "metadata": {},
     "output_type": "execute_result"
    }
   ],
   "source": [
    "rf_param.feature_importances_"
   ]
  },
  {
   "cell_type": "code",
   "execution_count": 77,
   "metadata": {},
   "outputs": [
    {
     "data": {
      "text/plain": [
       "Text(0.5, 1.0, 'feature importance score')"
      ]
     },
     "execution_count": 77,
     "metadata": {},
     "output_type": "execute_result"
    },
    {
     "data": {
      "image/png": "[encoded data removed]",
      "text/plain": [
       "<Figure size 432x288 with 1 Axes>"
      ]
     },
     "metadata": {
      "needs_background": "light"
     },
     "output_type": "display_data"
    }
   ],
   "source": [
    "feat_importances = pd.Series(rf_param.feature_importances_,index=xtrain.columns)\n",
    "ax=feat_importances.nlargest(11).plot(kind='barh')\n",
    "ax.invert_yaxis()\n",
    "plt.xlabel('score')\n",
    "plt.ylabel('feature')\n",
    "plt.title('feature importance score')"
   ]
  },
  {
   "cell_type": "markdown",
   "metadata": {},
   "source": [
    "**Let's try to remove unimportant feature (driving license and gender)**"
   ]
  },
  {
   "cell_type": "code",
   "execution_count": 78,
   "metadata": {},
   "outputs": [],
   "source": [
    "x1=train1.drop(['Response','Driving_License','Gender_Female'],axis=1)\n",
    "y1=train1['Response']\n",
    "xtrain1,xtest1,ytrain1,ytest1=train_test_split(x1,y1,test_size=0.3,random_state=42)"
   ]
  },
  {
   "cell_type": "code",
   "execution_count": 79,
   "metadata": {},
   "outputs": [
    {
     "data": {
      "text/plain": [
       "RandomForestClassifier(max_depth=40, n_estimators=1000, random_state=42)"
      ]
     },
     "execution_count": 79,
     "metadata": {},
     "output_type": "execute_result"
    }
   ],
   "source": [
    "rf_param=RandomForestClassifier(random_state= 42,\n",
    "                          n_estimators = 1000,\n",
    "                          max_depth = 40,\n",
    "                          min_samples_leaf=1)\n",
    "rf_param.fit(xtrain1,ytrain1)"
   ]
  },
  {
   "cell_type": "code",
   "execution_count": 80,
   "metadata": {},
   "outputs": [
    {
     "name": "stdout",
     "output_type": "stream",
     "text": [
      "accuracy\n",
      "0.8320870504296733\n",
      "\n",
      "precision\n",
      "0.7716428141510064\n",
      "\n",
      "recall\n",
      "0.9438633086904507\n",
      "\n",
      "roc_auc\n",
      "0.831965061461146\n"
     ]
    }
   ],
   "source": [
    "ypred_param1 = rf_param.predict(xtest1)\n",
    "print('accuracy')\n",
    "print(accuracy_score(ytest1, ypred_param1))\n",
    "print('')\n",
    "print('precision')\n",
    "print(precision_score(ytest1, ypred_param1))\n",
    "print('')\n",
    "print('recall')\n",
    "print(recall_score(ytest1, ypred_param1))\n",
    "print('')\n",
    "print('roc_auc')\n",
    "print(roc_auc_score(ytest1,ypred_param1))"
   ]
  },
  {
   "cell_type": "code",
   "execution_count": 81,
   "metadata": {},
   "outputs": [
    {
     "name": "stdout",
     "output_type": "stream",
     "text": [
      "accuracy\n",
      "0.8491885050462066\n",
      "\n",
      "precision\n",
      "0.7875102111632413\n",
      "\n",
      "recall\n",
      "0.9562582021357374\n",
      "\n",
      "roc_auc\n",
      "0.8492385068999231\n"
     ]
    }
   ],
   "source": [
    "ypred_param1 = rf_param.predict(xtrain1)\n",
    "print('accuracy')\n",
    "print(accuracy_score(ytrain1, ypred_param1))\n",
    "print('')\n",
    "print('precision')\n",
    "print(precision_score(ytrain1, ypred_param1))\n",
    "print('')\n",
    "print('recall')\n",
    "print(recall_score(ytrain1, ypred_param1))\n",
    "print('')\n",
    "print('roc_auc')\n",
    "print(roc_auc_score(ytrain1,ypred_param1))"
   ]
  },
  {
   "cell_type": "markdown",
   "metadata": {},
   "source": [
    "## **From The machine learning experiments above, there are several points that need to be mentioned:**\n",
    "\n",
    "### - **Oversampling is used to handle imbalance data**\n",
    "### - **The data is split to test (30%) and train (70%) data**\n",
    "### - **simple Logistic regression, XGBoost, Ada Boost, KNN, Random Forest, and decision tree is used**\n",
    "### - **Evaluation metric for the model are ROC-AUC, because the target data is imbalance**\n",
    "### - **Based on the evaluation metric, the best model is random forest**\n",
    "### - **Next, tuning hyperparameter of random forest**\n",
    "### - **The tuning hyperparameter are n_estimator, max_depth, and min_samples_leaf with consideration can avoid random forest model from over fitting**\n",
    "### - **After removing the unimportant feature, the evaluation metric is not getting better**\n",
    "### - **By using this machine learning model, sales agent team can increase the number of vehicle insurance by more than 70%**"
   ]
  }
 ],
 "metadata": {
  "kernelspec": {
   "display_name": "Python 3",
   "language": "python",
   "name": "python3"
  },
  "language_info": {
   "codemirror_mode": {
    "name": "ipython",
    "version": 3
   },
   "file_extension": ".py",
   "mimetype": "text/x-python",
   "name": "python",
   "nbconvert_exporter": "python",
   "pygments_lexer": "ipython3",
   "version": "3.8.5"
  }
 },
 "nbformat": 4,
 "nbformat_minor": 4
}
